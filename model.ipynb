{
 "cells": [
  {
   "cell_type": "code",
   "execution_count": 1,
   "metadata": {},
   "outputs": [],
   "source": [
    "import pandas as pd"
   ]
  },
  {
   "cell_type": "code",
   "execution_count": 9,
   "metadata": {},
   "outputs": [],
   "source": [
    "df = pd.read_excel(\"Dataset/Train.xlsx\")"
   ]
  },
  {
   "cell_type": "code",
   "execution_count": 10,
   "metadata": {},
   "outputs": [
    {
     "data": {
      "text/html": [
       "<div>\n",
       "<style scoped>\n",
       "    .dataframe tbody tr th:only-of-type {\n",
       "        vertical-align: middle;\n",
       "    }\n",
       "\n",
       "    .dataframe tbody tr th {\n",
       "        vertical-align: top;\n",
       "    }\n",
       "\n",
       "    .dataframe thead th {\n",
       "        text-align: right;\n",
       "    }\n",
       "</style>\n",
       "<table border=\"1\" class=\"dataframe\">\n",
       "  <thead>\n",
       "    <tr style=\"text-align: right;\">\n",
       "      <th></th>\n",
       "      <th>TYPE</th>\n",
       "      <th>HUNDRED_BLOCK</th>\n",
       "      <th>NEIGHBOURHOOD</th>\n",
       "      <th>X</th>\n",
       "      <th>Y</th>\n",
       "      <th>Latitude</th>\n",
       "      <th>Longitude</th>\n",
       "      <th>HOUR</th>\n",
       "      <th>MINUTE</th>\n",
       "      <th>YEAR</th>\n",
       "      <th>MONTH</th>\n",
       "      <th>DAY</th>\n",
       "      <th>Date</th>\n",
       "    </tr>\n",
       "  </thead>\n",
       "  <tbody>\n",
       "    <tr>\n",
       "      <th>0</th>\n",
       "      <td>Other Theft</td>\n",
       "      <td>9XX TERMINAL AVE</td>\n",
       "      <td>Strathcona</td>\n",
       "      <td>493906.5</td>\n",
       "      <td>5457452.47</td>\n",
       "      <td>49.269802</td>\n",
       "      <td>-123.083763</td>\n",
       "      <td>16.0</td>\n",
       "      <td>15.0</td>\n",
       "      <td>1999</td>\n",
       "      <td>5</td>\n",
       "      <td>12</td>\n",
       "      <td>1999-05-12</td>\n",
       "    </tr>\n",
       "    <tr>\n",
       "      <th>1</th>\n",
       "      <td>Other Theft</td>\n",
       "      <td>9XX TERMINAL AVE</td>\n",
       "      <td>Strathcona</td>\n",
       "      <td>493906.5</td>\n",
       "      <td>5457452.47</td>\n",
       "      <td>49.269802</td>\n",
       "      <td>-123.083763</td>\n",
       "      <td>15.0</td>\n",
       "      <td>20.0</td>\n",
       "      <td>1999</td>\n",
       "      <td>5</td>\n",
       "      <td>7</td>\n",
       "      <td>1999-05-07</td>\n",
       "    </tr>\n",
       "    <tr>\n",
       "      <th>2</th>\n",
       "      <td>Other Theft</td>\n",
       "      <td>9XX TERMINAL AVE</td>\n",
       "      <td>Strathcona</td>\n",
       "      <td>493906.5</td>\n",
       "      <td>5457452.47</td>\n",
       "      <td>49.269802</td>\n",
       "      <td>-123.083763</td>\n",
       "      <td>16.0</td>\n",
       "      <td>40.0</td>\n",
       "      <td>1999</td>\n",
       "      <td>4</td>\n",
       "      <td>23</td>\n",
       "      <td>1999-04-23</td>\n",
       "    </tr>\n",
       "    <tr>\n",
       "      <th>3</th>\n",
       "      <td>Other Theft</td>\n",
       "      <td>9XX TERMINAL AVE</td>\n",
       "      <td>Strathcona</td>\n",
       "      <td>493906.5</td>\n",
       "      <td>5457452.47</td>\n",
       "      <td>49.269802</td>\n",
       "      <td>-123.083763</td>\n",
       "      <td>11.0</td>\n",
       "      <td>15.0</td>\n",
       "      <td>1999</td>\n",
       "      <td>4</td>\n",
       "      <td>20</td>\n",
       "      <td>1999-04-20</td>\n",
       "    </tr>\n",
       "    <tr>\n",
       "      <th>4</th>\n",
       "      <td>Other Theft</td>\n",
       "      <td>9XX TERMINAL AVE</td>\n",
       "      <td>Strathcona</td>\n",
       "      <td>493906.5</td>\n",
       "      <td>5457452.47</td>\n",
       "      <td>49.269802</td>\n",
       "      <td>-123.083763</td>\n",
       "      <td>17.0</td>\n",
       "      <td>45.0</td>\n",
       "      <td>1999</td>\n",
       "      <td>4</td>\n",
       "      <td>12</td>\n",
       "      <td>1999-04-12</td>\n",
       "    </tr>\n",
       "  </tbody>\n",
       "</table>\n",
       "</div>"
      ],
      "text/plain": [
       "          TYPE     HUNDRED_BLOCK NEIGHBOURHOOD         X           Y  \\\n",
       "0  Other Theft  9XX TERMINAL AVE    Strathcona  493906.5  5457452.47   \n",
       "1  Other Theft  9XX TERMINAL AVE    Strathcona  493906.5  5457452.47   \n",
       "2  Other Theft  9XX TERMINAL AVE    Strathcona  493906.5  5457452.47   \n",
       "3  Other Theft  9XX TERMINAL AVE    Strathcona  493906.5  5457452.47   \n",
       "4  Other Theft  9XX TERMINAL AVE    Strathcona  493906.5  5457452.47   \n",
       "\n",
       "    Latitude   Longitude  HOUR  MINUTE  YEAR  MONTH  DAY       Date  \n",
       "0  49.269802 -123.083763  16.0    15.0  1999      5   12 1999-05-12  \n",
       "1  49.269802 -123.083763  15.0    20.0  1999      5    7 1999-05-07  \n",
       "2  49.269802 -123.083763  16.0    40.0  1999      4   23 1999-04-23  \n",
       "3  49.269802 -123.083763  11.0    15.0  1999      4   20 1999-04-20  \n",
       "4  49.269802 -123.083763  17.0    45.0  1999      4   12 1999-04-12  "
      ]
     },
     "execution_count": 10,
     "metadata": {},
     "output_type": "execute_result"
    }
   ],
   "source": [
    "df.head()"
   ]
  },
  {
   "cell_type": "code",
   "execution_count": 11,
   "metadata": {},
   "outputs": [
    {
     "data": {
      "text/plain": [
       "Index(['TYPE', 'HUNDRED_BLOCK', 'NEIGHBOURHOOD', 'X', 'Y', 'Latitude',\n",
       "       'Longitude', 'HOUR', 'MINUTE', 'YEAR', 'MONTH', 'DAY', 'Date'],\n",
       "      dtype='object')"
      ]
     },
     "execution_count": 11,
     "metadata": {},
     "output_type": "execute_result"
    }
   ],
   "source": [
    "df.columns"
   ]
  },
  {
   "cell_type": "code",
   "execution_count": 15,
   "metadata": {},
   "outputs": [],
   "source": [
    "agg_df = df.groupby([\"TYPE\", \"YEAR\", \"MONTH\"]).size().reset_index(name=\"incident_count\")"
   ]
  },
  {
   "cell_type": "code",
   "execution_count": 16,
   "metadata": {},
   "outputs": [
    {
     "data": {
      "text/html": [
       "<div>\n",
       "<style scoped>\n",
       "    .dataframe tbody tr th:only-of-type {\n",
       "        vertical-align: middle;\n",
       "    }\n",
       "\n",
       "    .dataframe tbody tr th {\n",
       "        vertical-align: top;\n",
       "    }\n",
       "\n",
       "    .dataframe thead th {\n",
       "        text-align: right;\n",
       "    }\n",
       "</style>\n",
       "<table border=\"1\" class=\"dataframe\">\n",
       "  <thead>\n",
       "    <tr style=\"text-align: right;\">\n",
       "      <th></th>\n",
       "      <th>TYPE</th>\n",
       "      <th>YEAR</th>\n",
       "      <th>MONTH</th>\n",
       "      <th>incident_count</th>\n",
       "    </tr>\n",
       "  </thead>\n",
       "  <tbody>\n",
       "    <tr>\n",
       "      <th>0</th>\n",
       "      <td>Break and Enter Commercial</td>\n",
       "      <td>1999</td>\n",
       "      <td>1</td>\n",
       "      <td>303</td>\n",
       "    </tr>\n",
       "    <tr>\n",
       "      <th>1</th>\n",
       "      <td>Break and Enter Commercial</td>\n",
       "      <td>1999</td>\n",
       "      <td>2</td>\n",
       "      <td>254</td>\n",
       "    </tr>\n",
       "    <tr>\n",
       "      <th>2</th>\n",
       "      <td>Break and Enter Commercial</td>\n",
       "      <td>1999</td>\n",
       "      <td>3</td>\n",
       "      <td>292</td>\n",
       "    </tr>\n",
       "    <tr>\n",
       "      <th>3</th>\n",
       "      <td>Break and Enter Commercial</td>\n",
       "      <td>1999</td>\n",
       "      <td>4</td>\n",
       "      <td>266</td>\n",
       "    </tr>\n",
       "    <tr>\n",
       "      <th>4</th>\n",
       "      <td>Break and Enter Commercial</td>\n",
       "      <td>1999</td>\n",
       "      <td>5</td>\n",
       "      <td>291</td>\n",
       "    </tr>\n",
       "  </tbody>\n",
       "</table>\n",
       "</div>"
      ],
      "text/plain": [
       "                         TYPE  YEAR  MONTH  incident_count\n",
       "0  Break and Enter Commercial  1999      1             303\n",
       "1  Break and Enter Commercial  1999      2             254\n",
       "2  Break and Enter Commercial  1999      3             292\n",
       "3  Break and Enter Commercial  1999      4             266\n",
       "4  Break and Enter Commercial  1999      5             291"
      ]
     },
     "execution_count": 16,
     "metadata": {},
     "output_type": "execute_result"
    }
   ],
   "source": [
    "agg_df.head()"
   ]
  },
  {
   "cell_type": "code",
   "execution_count": 17,
   "metadata": {},
   "outputs": [
    {
     "data": {
      "text/plain": [
       "(1404, 4)"
      ]
     },
     "execution_count": 17,
     "metadata": {},
     "output_type": "execute_result"
    }
   ],
   "source": [
    "agg_df.shape"
   ]
  },
  {
   "cell_type": "code",
   "execution_count": 24,
   "metadata": {},
   "outputs": [
    {
     "data": {
      "text/plain": [
       "TYPE              0.000000\n",
       "HUNDRED_BLOCK     0.002739\n",
       "NEIGHBOURHOOD    10.850147\n",
       "X                 0.000000\n",
       "Y                 0.000000\n",
       "Latitude          0.000000\n",
       "Longitude         0.000000\n",
       "HOUR             10.402158\n",
       "MINUTE           10.402158\n",
       "YEAR              0.000000\n",
       "MONTH             0.000000\n",
       "DAY               0.000000\n",
       "Date              0.000000\n",
       "dtype: float64"
      ]
     },
     "execution_count": 24,
     "metadata": {},
     "output_type": "execute_result"
    }
   ],
   "source": [
    "df.isna().mean() * 100"
   ]
  },
  {
   "cell_type": "code",
   "execution_count": 29,
   "metadata": {},
   "outputs": [
    {
     "data": {
      "text/plain": [
       "NEIGHBOURHOOD\n",
       "Arbutus Ridge                8\n",
       "Central Business District    8\n",
       "Dunbar-Southlands            8\n",
       "Fairview                     8\n",
       "Grandview-Woodland           8\n",
       "Hastings-Sunrise             8\n",
       "Kensington-Cedar Cottage     8\n",
       "Kerrisdale                   8\n",
       "Killarney                    8\n",
       "Kitsilano                    8\n",
       "Marpole                      8\n",
       "Mount Pleasant               8\n",
       "Musqueam                     8\n",
       "Oakridge                     8\n",
       "Renfrew-Collingwood          8\n",
       "Riley Park                   8\n",
       "Shaughnessy                  8\n",
       "South Cambie                 8\n",
       "Stanley Park                 8\n",
       "Strathcona                   8\n",
       "Sunset                       8\n",
       "Victoria-Fraserview          8\n",
       "West End                     8\n",
       "West Point Grey              8\n",
       "Name: TYPE, dtype: int64"
      ]
     },
     "execution_count": 29,
     "metadata": {},
     "output_type": "execute_result"
    }
   ],
   "source": [
    "df.groupby([\"NEIGHBOURHOOD\"])[\"TYPE\"].nunique()"
   ]
  },
  {
   "cell_type": "code",
   "execution_count": 19,
   "metadata": {},
   "outputs": [
    {
     "data": {
      "text/plain": [
       "TYPE                     object\n",
       "HUNDRED_BLOCK            object\n",
       "NEIGHBOURHOOD            object\n",
       "X                       float64\n",
       "Y                       float64\n",
       "Latitude                float64\n",
       "Longitude               float64\n",
       "HOUR                    float64\n",
       "MINUTE                  float64\n",
       "YEAR                      int64\n",
       "MONTH                     int64\n",
       "DAY                       int64\n",
       "Date             datetime64[ns]\n",
       "dtype: object"
      ]
     },
     "execution_count": 19,
     "metadata": {},
     "output_type": "execute_result"
    }
   ],
   "source": [
    "df.dtypes"
   ]
  },
  {
   "cell_type": "code",
   "execution_count": 20,
   "metadata": {},
   "outputs": [
    {
     "data": {
      "text/plain": [
       "TYPE\n",
       "Theft from Vehicle                                      153932\n",
       "Mischief                                                 63233\n",
       "Break and Enter Residential/Other                        56564\n",
       "Offence Against a Person                                 49365\n",
       "Other Theft                                              43593\n",
       "Theft of Vehicle                                         36189\n",
       "Break and Enter Commercial                               30048\n",
       "Theft of Bicycle                                         22110\n",
       "Vehicle Collision or Pedestrian Struck (with Injury)     19531\n",
       "Name: count, dtype: int64"
      ]
     },
     "execution_count": 20,
     "metadata": {},
     "output_type": "execute_result"
    }
   ],
   "source": [
    "df[\"TYPE\"].value_counts()"
   ]
  },
  {
   "cell_type": "code",
   "execution_count": 21,
   "metadata": {},
   "outputs": [
    {
     "data": {
      "text/plain": [
       "NEIGHBOURHOOD\n",
       "Central Business District    96171\n",
       "West End                     36954\n",
       "Fairview                     29377\n",
       "Mount Pleasant               26879\n",
       "Grandview-Woodland           24333\n",
       "Kitsilano                    24118\n",
       "Renfrew-Collingwood          24092\n",
       "Kensington-Cedar Cottage     22708\n",
       "Strathcona                   18281\n",
       "Hastings-Sunrise             16378\n",
       "Sunset                       15991\n",
       "Marpole                      11836\n",
       "Riley Park                   11164\n",
       "Victoria-Fraserview           9883\n",
       "Killarney                     9657\n",
       "Oakridge                      7221\n",
       "Dunbar-Southlands             7106\n",
       "Kerrisdale                    6766\n",
       "Arbutus Ridge                 5431\n",
       "West Point Grey               5262\n",
       "Shaughnessy                   4773\n",
       "South Cambie                  4658\n",
       "Stanley Park                  3532\n",
       "Musqueam                       503\n",
       "Name: count, dtype: int64"
      ]
     },
     "execution_count": 21,
     "metadata": {},
     "output_type": "execute_result"
    }
   ],
   "source": [
    "df[\"NEIGHBOURHOOD\"].value_counts()"
   ]
  },
  {
   "cell_type": "code",
   "execution_count": 22,
   "metadata": {},
   "outputs": [
    {
     "data": {
      "text/plain": [
       "HUNDRED_BLOCK\n",
       "OFFSET TO PROTECT PRIVACY    49365\n",
       "7XX GRANVILLE ST              4148\n",
       "6XX GRANVILLE ST              2876\n",
       "7XX W GEORGIA ST              2141\n",
       "X NK_LOC ST                   2113\n",
       "                             ...  \n",
       "MCCLEERY ST / W 45TH AVE         1\n",
       "19XX MACDONALD ST                1\n",
       "3X E 53RD AVE                    1\n",
       "83XX EAST BLVD                   1\n",
       "X RUPERT ST OFRP                 1\n",
       "Name: count, Length: 20566, dtype: int64"
      ]
     },
     "execution_count": 22,
     "metadata": {},
     "output_type": "execute_result"
    }
   ],
   "source": [
    "df[\"HUNDRED_BLOCK\"].value_counts()"
   ]
  },
  {
   "cell_type": "code",
   "execution_count": 34,
   "metadata": {},
   "outputs": [
    {
     "data": {
      "text/html": [
       "<div>\n",
       "<style scoped>\n",
       "    .dataframe tbody tr th:only-of-type {\n",
       "        vertical-align: middle;\n",
       "    }\n",
       "\n",
       "    .dataframe tbody tr th {\n",
       "        vertical-align: top;\n",
       "    }\n",
       "\n",
       "    .dataframe thead th {\n",
       "        text-align: right;\n",
       "    }\n",
       "</style>\n",
       "<table border=\"1\" class=\"dataframe\">\n",
       "  <thead>\n",
       "    <tr style=\"text-align: right;\">\n",
       "      <th></th>\n",
       "      <th>YEAR</th>\n",
       "      <th>MONTH</th>\n",
       "      <th>TYPE</th>\n",
       "      <th>incident_count</th>\n",
       "    </tr>\n",
       "  </thead>\n",
       "  <tbody>\n",
       "    <tr>\n",
       "      <th>0</th>\n",
       "      <td>1999</td>\n",
       "      <td>1</td>\n",
       "      <td>Theft from Vehicle</td>\n",
       "      <td>1438</td>\n",
       "    </tr>\n",
       "    <tr>\n",
       "      <th>1</th>\n",
       "      <td>1999</td>\n",
       "      <td>1</td>\n",
       "      <td>Break and Enter Residential/Other</td>\n",
       "      <td>644</td>\n",
       "    </tr>\n",
       "    <tr>\n",
       "      <th>2</th>\n",
       "      <td>1999</td>\n",
       "      <td>1</td>\n",
       "      <td>Theft of Vehicle</td>\n",
       "      <td>640</td>\n",
       "    </tr>\n",
       "    <tr>\n",
       "      <th>3</th>\n",
       "      <td>1999</td>\n",
       "      <td>1</td>\n",
       "      <td>Mischief</td>\n",
       "      <td>551</td>\n",
       "    </tr>\n",
       "    <tr>\n",
       "      <th>4</th>\n",
       "      <td>1999</td>\n",
       "      <td>1</td>\n",
       "      <td>Offence Against a Person</td>\n",
       "      <td>338</td>\n",
       "    </tr>\n",
       "    <tr>\n",
       "      <th>...</th>\n",
       "      <td>...</td>\n",
       "      <td>...</td>\n",
       "      <td>...</td>\n",
       "      <td>...</td>\n",
       "    </tr>\n",
       "    <tr>\n",
       "      <th>1399</th>\n",
       "      <td>2011</td>\n",
       "      <td>12</td>\n",
       "      <td>Offence Against a Person</td>\n",
       "      <td>280</td>\n",
       "    </tr>\n",
       "    <tr>\n",
       "      <th>1400</th>\n",
       "      <td>2011</td>\n",
       "      <td>12</td>\n",
       "      <td>Break and Enter Commercial</td>\n",
       "      <td>227</td>\n",
       "    </tr>\n",
       "    <tr>\n",
       "      <th>1401</th>\n",
       "      <td>2011</td>\n",
       "      <td>12</td>\n",
       "      <td>Theft of Vehicle</td>\n",
       "      <td>143</td>\n",
       "    </tr>\n",
       "    <tr>\n",
       "      <th>1402</th>\n",
       "      <td>2011</td>\n",
       "      <td>12</td>\n",
       "      <td>Vehicle Collision or Pedestrian Struck (with I...</td>\n",
       "      <td>127</td>\n",
       "    </tr>\n",
       "    <tr>\n",
       "      <th>1403</th>\n",
       "      <td>2011</td>\n",
       "      <td>12</td>\n",
       "      <td>Theft of Bicycle</td>\n",
       "      <td>121</td>\n",
       "    </tr>\n",
       "  </tbody>\n",
       "</table>\n",
       "<p>1404 rows × 4 columns</p>\n",
       "</div>"
      ],
      "text/plain": [
       "      YEAR  MONTH                                               TYPE  \\\n",
       "0     1999      1                                 Theft from Vehicle   \n",
       "1     1999      1                  Break and Enter Residential/Other   \n",
       "2     1999      1                                   Theft of Vehicle   \n",
       "3     1999      1                                           Mischief   \n",
       "4     1999      1                           Offence Against a Person   \n",
       "...    ...    ...                                                ...   \n",
       "1399  2011     12                           Offence Against a Person   \n",
       "1400  2011     12                         Break and Enter Commercial   \n",
       "1401  2011     12                                   Theft of Vehicle   \n",
       "1402  2011     12  Vehicle Collision or Pedestrian Struck (with I...   \n",
       "1403  2011     12                                   Theft of Bicycle   \n",
       "\n",
       "      incident_count  \n",
       "0               1438  \n",
       "1                644  \n",
       "2                640  \n",
       "3                551  \n",
       "4                338  \n",
       "...              ...  \n",
       "1399             280  \n",
       "1400             227  \n",
       "1401             143  \n",
       "1402             127  \n",
       "1403             121  \n",
       "\n",
       "[1404 rows x 4 columns]"
      ]
     },
     "execution_count": 34,
     "metadata": {},
     "output_type": "execute_result"
    }
   ],
   "source": [
    "df.groupby([\"YEAR\", \"MONTH\"])[\"TYPE\"].value_counts().reset_index(name=\"incident_count\")"
   ]
  },
  {
   "cell_type": "code",
   "execution_count": 36,
   "metadata": {},
   "outputs": [
    {
     "data": {
      "text/html": [
       "<div>\n",
       "<style scoped>\n",
       "    .dataframe tbody tr th:only-of-type {\n",
       "        vertical-align: middle;\n",
       "    }\n",
       "\n",
       "    .dataframe tbody tr th {\n",
       "        vertical-align: top;\n",
       "    }\n",
       "\n",
       "    .dataframe thead th {\n",
       "        text-align: right;\n",
       "    }\n",
       "</style>\n",
       "<table border=\"1\" class=\"dataframe\">\n",
       "  <thead>\n",
       "    <tr style=\"text-align: right;\">\n",
       "      <th></th>\n",
       "      <th>YEAR</th>\n",
       "      <th>MONTH</th>\n",
       "      <th>TYPE</th>\n",
       "    </tr>\n",
       "  </thead>\n",
       "  <tbody>\n",
       "    <tr>\n",
       "      <th>0</th>\n",
       "      <td>1999</td>\n",
       "      <td>1</td>\n",
       "      <td>9</td>\n",
       "    </tr>\n",
       "    <tr>\n",
       "      <th>1</th>\n",
       "      <td>1999</td>\n",
       "      <td>2</td>\n",
       "      <td>9</td>\n",
       "    </tr>\n",
       "    <tr>\n",
       "      <th>2</th>\n",
       "      <td>1999</td>\n",
       "      <td>3</td>\n",
       "      <td>9</td>\n",
       "    </tr>\n",
       "    <tr>\n",
       "      <th>3</th>\n",
       "      <td>1999</td>\n",
       "      <td>4</td>\n",
       "      <td>9</td>\n",
       "    </tr>\n",
       "    <tr>\n",
       "      <th>4</th>\n",
       "      <td>1999</td>\n",
       "      <td>5</td>\n",
       "      <td>9</td>\n",
       "    </tr>\n",
       "    <tr>\n",
       "      <th>...</th>\n",
       "      <td>...</td>\n",
       "      <td>...</td>\n",
       "      <td>...</td>\n",
       "    </tr>\n",
       "    <tr>\n",
       "      <th>151</th>\n",
       "      <td>2011</td>\n",
       "      <td>8</td>\n",
       "      <td>9</td>\n",
       "    </tr>\n",
       "    <tr>\n",
       "      <th>152</th>\n",
       "      <td>2011</td>\n",
       "      <td>9</td>\n",
       "      <td>9</td>\n",
       "    </tr>\n",
       "    <tr>\n",
       "      <th>153</th>\n",
       "      <td>2011</td>\n",
       "      <td>10</td>\n",
       "      <td>9</td>\n",
       "    </tr>\n",
       "    <tr>\n",
       "      <th>154</th>\n",
       "      <td>2011</td>\n",
       "      <td>11</td>\n",
       "      <td>9</td>\n",
       "    </tr>\n",
       "    <tr>\n",
       "      <th>155</th>\n",
       "      <td>2011</td>\n",
       "      <td>12</td>\n",
       "      <td>9</td>\n",
       "    </tr>\n",
       "  </tbody>\n",
       "</table>\n",
       "<p>156 rows × 3 columns</p>\n",
       "</div>"
      ],
      "text/plain": [
       "     YEAR  MONTH  TYPE\n",
       "0    1999      1     9\n",
       "1    1999      2     9\n",
       "2    1999      3     9\n",
       "3    1999      4     9\n",
       "4    1999      5     9\n",
       "..    ...    ...   ...\n",
       "151  2011      8     9\n",
       "152  2011      9     9\n",
       "153  2011     10     9\n",
       "154  2011     11     9\n",
       "155  2011     12     9\n",
       "\n",
       "[156 rows x 3 columns]"
      ]
     },
     "execution_count": 36,
     "metadata": {},
     "output_type": "execute_result"
    }
   ],
   "source": [
    "df.groupby([\"YEAR\", \"MONTH\"])[\"TYPE\"].nunique().reset_index()"
   ]
  },
  {
   "cell_type": "code",
   "execution_count": 7,
   "metadata": {},
   "outputs": [],
   "source": [
    "test_df = pd.read_csv(\"./Dataset/Test.csv\")"
   ]
  },
  {
   "cell_type": "code",
   "execution_count": 8,
   "metadata": {},
   "outputs": [
    {
     "data": {
      "text/html": [
       "<div>\n",
       "<style scoped>\n",
       "    .dataframe tbody tr th:only-of-type {\n",
       "        vertical-align: middle;\n",
       "    }\n",
       "\n",
       "    .dataframe tbody tr th {\n",
       "        vertical-align: top;\n",
       "    }\n",
       "\n",
       "    .dataframe thead th {\n",
       "        text-align: right;\n",
       "    }\n",
       "</style>\n",
       "<table border=\"1\" class=\"dataframe\">\n",
       "  <thead>\n",
       "    <tr style=\"text-align: right;\">\n",
       "      <th></th>\n",
       "      <th>YEAR</th>\n",
       "      <th>MONTH</th>\n",
       "      <th>TYPE</th>\n",
       "      <th>Incident_Counts</th>\n",
       "    </tr>\n",
       "  </thead>\n",
       "  <tbody>\n",
       "    <tr>\n",
       "      <th>0</th>\n",
       "      <td>2013</td>\n",
       "      <td>6</td>\n",
       "      <td>Vehicle Collision or Pedestrian Struck (with I...</td>\n",
       "      <td>NaN</td>\n",
       "    </tr>\n",
       "    <tr>\n",
       "      <th>1</th>\n",
       "      <td>2013</td>\n",
       "      <td>6</td>\n",
       "      <td>Theft of Vehicle</td>\n",
       "      <td>NaN</td>\n",
       "    </tr>\n",
       "    <tr>\n",
       "      <th>2</th>\n",
       "      <td>2013</td>\n",
       "      <td>6</td>\n",
       "      <td>Theft of Bicycle</td>\n",
       "      <td>NaN</td>\n",
       "    </tr>\n",
       "    <tr>\n",
       "      <th>3</th>\n",
       "      <td>2013</td>\n",
       "      <td>6</td>\n",
       "      <td>Theft from Vehicle</td>\n",
       "      <td>NaN</td>\n",
       "    </tr>\n",
       "    <tr>\n",
       "      <th>4</th>\n",
       "      <td>2013</td>\n",
       "      <td>6</td>\n",
       "      <td>Other Theft</td>\n",
       "      <td>NaN</td>\n",
       "    </tr>\n",
       "  </tbody>\n",
       "</table>\n",
       "</div>"
      ],
      "text/plain": [
       "   YEAR  MONTH                                               TYPE  \\\n",
       "0  2013      6  Vehicle Collision or Pedestrian Struck (with I...   \n",
       "1  2013      6                                   Theft of Vehicle   \n",
       "2  2013      6                                   Theft of Bicycle   \n",
       "3  2013      6                                 Theft from Vehicle   \n",
       "4  2013      6                                        Other Theft   \n",
       "\n",
       "   Incident_Counts  \n",
       "0              NaN  \n",
       "1              NaN  \n",
       "2              NaN  \n",
       "3              NaN  \n",
       "4              NaN  "
      ]
     },
     "execution_count": 8,
     "metadata": {},
     "output_type": "execute_result"
    }
   ],
   "source": [
    "test_df.head()"
   ]
  },
  {
   "cell_type": "code",
   "execution_count": 37,
   "metadata": {},
   "outputs": [
    {
     "data": {
      "text/plain": [
       "np.int64(2012)"
      ]
     },
     "execution_count": 37,
     "metadata": {},
     "output_type": "execute_result"
    }
   ],
   "source": [
    "test_df[\"YEAR\"].min()"
   ]
  },
  {
   "cell_type": "code",
   "execution_count": 38,
   "metadata": {},
   "outputs": [
    {
     "data": {
      "text/plain": [
       "np.int64(2013)"
      ]
     },
     "execution_count": 38,
     "metadata": {},
     "output_type": "execute_result"
    }
   ],
   "source": [
    "test_df[\"YEAR\"].max()"
   ]
  },
  {
   "cell_type": "code",
   "execution_count": 41,
   "metadata": {},
   "outputs": [
    {
     "data": {
      "text/plain": [
       "YEAR\n",
       "2012    [12, 11, 10, 9, 8, 7, 6, 5, 4, 3, 2, 1]\n",
       "2013                         [6, 5, 4, 3, 2, 1]\n",
       "Name: MONTH, dtype: object"
      ]
     },
     "execution_count": 41,
     "metadata": {},
     "output_type": "execute_result"
    }
   ],
   "source": [
    "test_df.groupby([\"YEAR\"])[\"MONTH\"].unique()"
   ]
  },
  {
   "cell_type": "code",
   "execution_count": 42,
   "metadata": {},
   "outputs": [
    {
     "data": {
      "text/plain": [
       "np.int64(1999)"
      ]
     },
     "execution_count": 42,
     "metadata": {},
     "output_type": "execute_result"
    }
   ],
   "source": [
    "df[\"YEAR\"].min()"
   ]
  },
  {
   "cell_type": "code",
   "execution_count": 43,
   "metadata": {},
   "outputs": [
    {
     "data": {
      "text/plain": [
       "np.int64(2011)"
      ]
     },
     "execution_count": 43,
     "metadata": {},
     "output_type": "execute_result"
    }
   ],
   "source": [
    "df[\"YEAR\"].max()"
   ]
  },
  {
   "cell_type": "code",
   "execution_count": 44,
   "metadata": {},
   "outputs": [
    {
     "data": {
      "text/plain": [
       "YEAR\n",
       "1999    [5, 4, 3, 6, 2, 7, 1, 9, 11, 10, 12, 8]\n",
       "2000    [10, 7, 6, 1, 2, 3, 9, 8, 4, 11, 12, 5]\n",
       "2001    [6, 12, 11, 9, 8, 2, 7, 1, 5, 4, 10, 3]\n",
       "2002    [8, 5, 4, 6, 1, 12, 3, 2, 11, 9, 10, 7]\n",
       "2003    [4, 12, 2, 3, 1, 9, 10, 11, 6, 8, 7, 5]\n",
       "2004    [10, 6, 1, 3, 5, 7, 8, 4, 9, 2, 11, 12]\n",
       "2005    [1, 12, 5, 6, 7, 9, 2, 11, 8, 10, 4, 3]\n",
       "2006    [1, 7, 12, 4, 6, 8, 5, 2, 10, 9, 11, 3]\n",
       "2007    [6, 11, 1, 2, 3, 12, 4, 7, 9, 5, 10, 8]\n",
       "2008    [10, 11, 1, 7, 5, 4, 2, 12, 9, 3, 8, 6]\n",
       "2009    [6, 7, 8, 9, 10, 5, 11, 12, 4, 2, 3, 1]\n",
       "2010    [12, 7, 11, 1, 2, 3, 5, 6, 4, 9, 10, 8]\n",
       "2011    [2, 5, 8, 10, 9, 4, 1, 12, 3, 6, 7, 11]\n",
       "Name: MONTH, dtype: object"
      ]
     },
     "execution_count": 44,
     "metadata": {},
     "output_type": "execute_result"
    }
   ],
   "source": [
    "df.groupby([\"YEAR\"])[\"MONTH\"].unique()"
   ]
  },
  {
   "cell_type": "code",
   "execution_count": 46,
   "metadata": {},
   "outputs": [
    {
     "data": {
      "text/plain": [
       "84225"
      ]
     },
     "execution_count": 46,
     "metadata": {},
     "output_type": "execute_result"
    }
   ],
   "source": [
    "df[\"X\"].nunique()"
   ]
  },
  {
   "cell_type": "code",
   "execution_count": 47,
   "metadata": {},
   "outputs": [
    {
     "data": {
      "text/plain": [
       "82768"
      ]
     },
     "execution_count": 47,
     "metadata": {},
     "output_type": "execute_result"
    }
   ],
   "source": [
    "df[\"Y\"].nunique()"
   ]
  },
  {
   "cell_type": "code",
   "execution_count": 48,
   "metadata": {},
   "outputs": [
    {
     "data": {
      "text/plain": [
       "(474565, 13)"
      ]
     },
     "execution_count": 48,
     "metadata": {},
     "output_type": "execute_result"
    }
   ],
   "source": [
    "df.shape"
   ]
  },
  {
   "cell_type": "code",
   "execution_count": null,
   "metadata": {},
   "outputs": [],
   "source": []
  }
 ],
 "metadata": {
  "kernelspec": {
   "display_name": ".venv",
   "language": "python",
   "name": "python3"
  },
  "language_info": {
   "codemirror_mode": {
    "name": "ipython",
    "version": 3
   },
   "file_extension": ".py",
   "mimetype": "text/x-python",
   "name": "python",
   "nbconvert_exporter": "python",
   "pygments_lexer": "ipython3",
   "version": "3.12.5"
  }
 },
 "nbformat": 4,
 "nbformat_minor": 2
}
