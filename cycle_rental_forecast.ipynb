{
 "cells": [
  {
   "cell_type": "code",
   "execution_count": 2,
   "metadata": {},
   "outputs": [],
   "source": [
    "# !unzip /Users/priyanshu.tuli/Desktop/machinehack/cycle_rental_forecast/Dataset.zip"
   ]
  },
  {
   "cell_type": "code",
   "execution_count": 3,
   "metadata": {},
   "outputs": [],
   "source": [
    "import pandas as pd\n",
    "import matplotlib.pyplot as plt\n",
    "from statsmodels.tsa.seasonal import seasonal_decompose"
   ]
  },
  {
   "cell_type": "code",
   "execution_count": 4,
   "metadata": {},
   "outputs": [],
   "source": [
    "df = pd.read_excel(\"/Users/priyanshu.tuli/Desktop/machinehack/cycle_rental_forecast/Dataset/Train.xlsx\")"
   ]
  },
  {
   "cell_type": "code",
   "execution_count": 5,
   "metadata": {},
   "outputs": [
    {
     "data": {
      "text/plain": [
       "Index(['Unnamed: 0', 'St_Hour', 'St_Day', 'St_Month', 'St_Year', 'User_type',\n",
       "       'Datetime', 'Rental_Bicycles_Count'],\n",
       "      dtype='object')"
      ]
     },
     "execution_count": 5,
     "metadata": {},
     "output_type": "execute_result"
    }
   ],
   "source": [
    "df.columns"
   ]
  },
  {
   "cell_type": "code",
   "execution_count": 6,
   "metadata": {},
   "outputs": [
    {
     "data": {
      "text/html": [
       "<div>\n",
       "<style scoped>\n",
       "    .dataframe tbody tr th:only-of-type {\n",
       "        vertical-align: middle;\n",
       "    }\n",
       "\n",
       "    .dataframe tbody tr th {\n",
       "        vertical-align: top;\n",
       "    }\n",
       "\n",
       "    .dataframe thead th {\n",
       "        text-align: right;\n",
       "    }\n",
       "</style>\n",
       "<table border=\"1\" class=\"dataframe\">\n",
       "  <thead>\n",
       "    <tr style=\"text-align: right;\">\n",
       "      <th></th>\n",
       "      <th>Unnamed: 0</th>\n",
       "      <th>St_Hour</th>\n",
       "      <th>St_Day</th>\n",
       "      <th>St_Month</th>\n",
       "      <th>St_Year</th>\n",
       "      <th>User_type</th>\n",
       "      <th>Datetime</th>\n",
       "      <th>Rental_Bicycles_Count</th>\n",
       "    </tr>\n",
       "  </thead>\n",
       "  <tbody>\n",
       "    <tr>\n",
       "      <th>0</th>\n",
       "      <td>0</td>\n",
       "      <td>0</td>\n",
       "      <td>1</td>\n",
       "      <td>1</td>\n",
       "      <td>2013</td>\n",
       "      <td>occasional</td>\n",
       "      <td>2013-01-01 00:00:00</td>\n",
       "      <td>20</td>\n",
       "    </tr>\n",
       "    <tr>\n",
       "      <th>1</th>\n",
       "      <td>1</td>\n",
       "      <td>0</td>\n",
       "      <td>1</td>\n",
       "      <td>1</td>\n",
       "      <td>2013</td>\n",
       "      <td>subscribed</td>\n",
       "      <td>2013-01-01 00:00:00</td>\n",
       "      <td>26</td>\n",
       "    </tr>\n",
       "    <tr>\n",
       "      <th>2</th>\n",
       "      <td>2</td>\n",
       "      <td>1</td>\n",
       "      <td>1</td>\n",
       "      <td>1</td>\n",
       "      <td>2013</td>\n",
       "      <td>occasional</td>\n",
       "      <td>2013-01-01 01:00:00</td>\n",
       "      <td>23</td>\n",
       "    </tr>\n",
       "    <tr>\n",
       "      <th>3</th>\n",
       "      <td>3</td>\n",
       "      <td>1</td>\n",
       "      <td>1</td>\n",
       "      <td>1</td>\n",
       "      <td>2013</td>\n",
       "      <td>subscribed</td>\n",
       "      <td>2013-01-01 01:00:00</td>\n",
       "      <td>23</td>\n",
       "    </tr>\n",
       "    <tr>\n",
       "      <th>4</th>\n",
       "      <td>4</td>\n",
       "      <td>2</td>\n",
       "      <td>1</td>\n",
       "      <td>1</td>\n",
       "      <td>2013</td>\n",
       "      <td>occasional</td>\n",
       "      <td>2013-01-01 02:00:00</td>\n",
       "      <td>20</td>\n",
       "    </tr>\n",
       "  </tbody>\n",
       "</table>\n",
       "</div>"
      ],
      "text/plain": [
       "   Unnamed: 0  St_Hour  St_Day  St_Month  St_Year   User_type  \\\n",
       "0           0        0       1         1     2013  occasional   \n",
       "1           1        0       1         1     2013  subscribed   \n",
       "2           2        1       1         1     2013  occasional   \n",
       "3           3        1       1         1     2013  subscribed   \n",
       "4           4        2       1         1     2013  occasional   \n",
       "\n",
       "             Datetime  Rental_Bicycles_Count  \n",
       "0 2013-01-01 00:00:00                     20  \n",
       "1 2013-01-01 00:00:00                     26  \n",
       "2 2013-01-01 01:00:00                     23  \n",
       "3 2013-01-01 01:00:00                     23  \n",
       "4 2013-01-01 02:00:00                     20  "
      ]
     },
     "execution_count": 6,
     "metadata": {},
     "output_type": "execute_result"
    }
   ],
   "source": [
    "df.head()"
   ]
  },
  {
   "cell_type": "code",
   "execution_count": 7,
   "metadata": {},
   "outputs": [],
   "source": [
    "df.drop(columns=[\"Unnamed: 0\"], inplace=True)"
   ]
  },
  {
   "cell_type": "code",
   "execution_count": 8,
   "metadata": {},
   "outputs": [
    {
     "data": {
      "text/html": [
       "<div>\n",
       "<style scoped>\n",
       "    .dataframe tbody tr th:only-of-type {\n",
       "        vertical-align: middle;\n",
       "    }\n",
       "\n",
       "    .dataframe tbody tr th {\n",
       "        vertical-align: top;\n",
       "    }\n",
       "\n",
       "    .dataframe thead th {\n",
       "        text-align: right;\n",
       "    }\n",
       "</style>\n",
       "<table border=\"1\" class=\"dataframe\">\n",
       "  <thead>\n",
       "    <tr style=\"text-align: right;\">\n",
       "      <th></th>\n",
       "      <th>St_Hour</th>\n",
       "      <th>St_Day</th>\n",
       "      <th>St_Month</th>\n",
       "      <th>St_Year</th>\n",
       "      <th>User_type</th>\n",
       "      <th>Datetime</th>\n",
       "      <th>Rental_Bicycles_Count</th>\n",
       "    </tr>\n",
       "  </thead>\n",
       "  <tbody>\n",
       "    <tr>\n",
       "      <th>0</th>\n",
       "      <td>0</td>\n",
       "      <td>1</td>\n",
       "      <td>1</td>\n",
       "      <td>2013</td>\n",
       "      <td>occasional</td>\n",
       "      <td>2013-01-01 00:00:00</td>\n",
       "      <td>20</td>\n",
       "    </tr>\n",
       "    <tr>\n",
       "      <th>1</th>\n",
       "      <td>0</td>\n",
       "      <td>1</td>\n",
       "      <td>1</td>\n",
       "      <td>2013</td>\n",
       "      <td>subscribed</td>\n",
       "      <td>2013-01-01 00:00:00</td>\n",
       "      <td>26</td>\n",
       "    </tr>\n",
       "    <tr>\n",
       "      <th>2</th>\n",
       "      <td>1</td>\n",
       "      <td>1</td>\n",
       "      <td>1</td>\n",
       "      <td>2013</td>\n",
       "      <td>occasional</td>\n",
       "      <td>2013-01-01 01:00:00</td>\n",
       "      <td>23</td>\n",
       "    </tr>\n",
       "    <tr>\n",
       "      <th>3</th>\n",
       "      <td>1</td>\n",
       "      <td>1</td>\n",
       "      <td>1</td>\n",
       "      <td>2013</td>\n",
       "      <td>subscribed</td>\n",
       "      <td>2013-01-01 01:00:00</td>\n",
       "      <td>23</td>\n",
       "    </tr>\n",
       "    <tr>\n",
       "      <th>4</th>\n",
       "      <td>2</td>\n",
       "      <td>1</td>\n",
       "      <td>1</td>\n",
       "      <td>2013</td>\n",
       "      <td>occasional</td>\n",
       "      <td>2013-01-01 02:00:00</td>\n",
       "      <td>20</td>\n",
       "    </tr>\n",
       "  </tbody>\n",
       "</table>\n",
       "</div>"
      ],
      "text/plain": [
       "   St_Hour  St_Day  St_Month  St_Year   User_type            Datetime  \\\n",
       "0        0       1         1     2013  occasional 2013-01-01 00:00:00   \n",
       "1        0       1         1     2013  subscribed 2013-01-01 00:00:00   \n",
       "2        1       1         1     2013  occasional 2013-01-01 01:00:00   \n",
       "3        1       1         1     2013  subscribed 2013-01-01 01:00:00   \n",
       "4        2       1         1     2013  occasional 2013-01-01 02:00:00   \n",
       "\n",
       "   Rental_Bicycles_Count  \n",
       "0                     20  \n",
       "1                     26  \n",
       "2                     23  \n",
       "3                     23  \n",
       "4                     20  "
      ]
     },
     "execution_count": 8,
     "metadata": {},
     "output_type": "execute_result"
    }
   ],
   "source": [
    "df.head()"
   ]
  },
  {
   "cell_type": "code",
   "execution_count": 9,
   "metadata": {},
   "outputs": [
    {
     "data": {
      "text/plain": [
       "(59709, 7)"
      ]
     },
     "execution_count": 9,
     "metadata": {},
     "output_type": "execute_result"
    }
   ],
   "source": [
    "df.shape"
   ]
  },
  {
   "cell_type": "code",
   "execution_count": 10,
   "metadata": {},
   "outputs": [
    {
     "name": "stdout",
     "output_type": "stream",
     "text": [
      "<class 'pandas.core.frame.DataFrame'>\n",
      "RangeIndex: 59709 entries, 0 to 59708\n",
      "Data columns (total 7 columns):\n",
      " #   Column                 Non-Null Count  Dtype         \n",
      "---  ------                 --------------  -----         \n",
      " 0   St_Hour                59709 non-null  int64         \n",
      " 1   St_Day                 59709 non-null  int64         \n",
      " 2   St_Month               59709 non-null  int64         \n",
      " 3   St_Year                59709 non-null  int64         \n",
      " 4   User_type              59709 non-null  object        \n",
      " 5   Datetime               59709 non-null  datetime64[ns]\n",
      " 6   Rental_Bicycles_Count  59709 non-null  int64         \n",
      "dtypes: datetime64[ns](1), int64(5), object(1)\n",
      "memory usage: 3.2+ MB\n"
     ]
    }
   ],
   "source": [
    "df.info()"
   ]
  },
  {
   "cell_type": "code",
   "execution_count": 11,
   "metadata": {},
   "outputs": [
    {
     "data": {
      "text/plain": [
       "User_type\n",
       "subscribed    50.039358\n",
       "occasional    49.960642\n",
       "Name: count, dtype: float64"
      ]
     },
     "execution_count": 11,
     "metadata": {},
     "output_type": "execute_result"
    }
   ],
   "source": [
    "df[\"User_type\"].value_counts() / df.shape[0] * 100"
   ]
  },
  {
   "cell_type": "code",
   "execution_count": 12,
   "metadata": {},
   "outputs": [
    {
     "data": {
      "text/plain": [
       "Timestamp('2016-05-31 23:00:00')"
      ]
     },
     "execution_count": 12,
     "metadata": {},
     "output_type": "execute_result"
    }
   ],
   "source": [
    "df[\"Datetime\"].max()"
   ]
  },
  {
   "cell_type": "code",
   "execution_count": 13,
   "metadata": {},
   "outputs": [
    {
     "data": {
      "text/plain": [
       "Timestamp('2013-01-01 00:00:00')"
      ]
     },
     "execution_count": 13,
     "metadata": {},
     "output_type": "execute_result"
    }
   ],
   "source": [
    "df[\"Datetime\"].min()"
   ]
  },
  {
   "cell_type": "code",
   "execution_count": 14,
   "metadata": {},
   "outputs": [],
   "source": [
    "df.sort_values(by=\"Datetime\", ascending=True, inplace=True)"
   ]
  },
  {
   "cell_type": "code",
   "execution_count": 15,
   "metadata": {},
   "outputs": [],
   "source": [
    "df_occasional = df.loc[df[\"User_type\"] == \"occasional\", [\"Datetime\", \"Rental_Bicycles_Count\"]]"
   ]
  },
  {
   "cell_type": "code",
   "execution_count": 16,
   "metadata": {},
   "outputs": [
    {
     "data": {
      "text/plain": [
       "(29831, 2)"
      ]
     },
     "execution_count": 16,
     "metadata": {},
     "output_type": "execute_result"
    }
   ],
   "source": [
    "df_occasional.shape"
   ]
  },
  {
   "cell_type": "code",
   "execution_count": 17,
   "metadata": {},
   "outputs": [
    {
     "data": {
      "text/html": [
       "<div>\n",
       "<style scoped>\n",
       "    .dataframe tbody tr th:only-of-type {\n",
       "        vertical-align: middle;\n",
       "    }\n",
       "\n",
       "    .dataframe tbody tr th {\n",
       "        vertical-align: top;\n",
       "    }\n",
       "\n",
       "    .dataframe thead th {\n",
       "        text-align: right;\n",
       "    }\n",
       "</style>\n",
       "<table border=\"1\" class=\"dataframe\">\n",
       "  <thead>\n",
       "    <tr style=\"text-align: right;\">\n",
       "      <th></th>\n",
       "      <th>Datetime</th>\n",
       "      <th>Rental_Bicycles_Count</th>\n",
       "    </tr>\n",
       "  </thead>\n",
       "  <tbody>\n",
       "    <tr>\n",
       "      <th>0</th>\n",
       "      <td>2013-01-01 00:00:00</td>\n",
       "      <td>20</td>\n",
       "    </tr>\n",
       "    <tr>\n",
       "      <th>2</th>\n",
       "      <td>2013-01-01 01:00:00</td>\n",
       "      <td>23</td>\n",
       "    </tr>\n",
       "    <tr>\n",
       "      <th>4</th>\n",
       "      <td>2013-01-01 02:00:00</td>\n",
       "      <td>20</td>\n",
       "    </tr>\n",
       "    <tr>\n",
       "      <th>6</th>\n",
       "      <td>2013-01-01 03:00:00</td>\n",
       "      <td>9</td>\n",
       "    </tr>\n",
       "    <tr>\n",
       "      <th>8</th>\n",
       "      <td>2013-01-01 04:00:00</td>\n",
       "      <td>7</td>\n",
       "    </tr>\n",
       "  </tbody>\n",
       "</table>\n",
       "</div>"
      ],
      "text/plain": [
       "             Datetime  Rental_Bicycles_Count\n",
       "0 2013-01-01 00:00:00                     20\n",
       "2 2013-01-01 01:00:00                     23\n",
       "4 2013-01-01 02:00:00                     20\n",
       "6 2013-01-01 03:00:00                      9\n",
       "8 2013-01-01 04:00:00                      7"
      ]
     },
     "execution_count": 17,
     "metadata": {},
     "output_type": "execute_result"
    }
   ],
   "source": [
    "df_occasional.head()"
   ]
  },
  {
   "cell_type": "code",
   "execution_count": 18,
   "metadata": {},
   "outputs": [],
   "source": [
    "df_occasional[\"time_diff\"] = df_occasional[\"Datetime\"] - df_occasional[\"Datetime\"].shift(1)\n",
    "df_occasional[\"time_diff\"] = df_occasional[\"time_diff\"].dt.total_seconds() / 3600"
   ]
  },
  {
   "cell_type": "code",
   "execution_count": 19,
   "metadata": {},
   "outputs": [
    {
     "data": {
      "text/plain": [
       "time_diff\n",
       "1.0    29741\n",
       "2.0       82\n",
       "3.0        6\n",
       "4.0        1\n",
       "Name: count, dtype: int64"
      ]
     },
     "execution_count": 19,
     "metadata": {},
     "output_type": "execute_result"
    }
   ],
   "source": [
    "df_occasional[\"time_diff\"].value_counts()"
   ]
  },
  {
   "cell_type": "code",
   "execution_count": 20,
   "metadata": {},
   "outputs": [
    {
     "data": {
      "text/plain": [
       "(29831, 3)"
      ]
     },
     "execution_count": 20,
     "metadata": {},
     "output_type": "execute_result"
    }
   ],
   "source": [
    "df_occasional.shape"
   ]
  },
  {
   "cell_type": "code",
   "execution_count": 21,
   "metadata": {},
   "outputs": [
    {
     "data": {
      "text/html": [
       "<div>\n",
       "<style scoped>\n",
       "    .dataframe tbody tr th:only-of-type {\n",
       "        vertical-align: middle;\n",
       "    }\n",
       "\n",
       "    .dataframe tbody tr th {\n",
       "        vertical-align: top;\n",
       "    }\n",
       "\n",
       "    .dataframe thead th {\n",
       "        text-align: right;\n",
       "    }\n",
       "</style>\n",
       "<table border=\"1\" class=\"dataframe\">\n",
       "  <thead>\n",
       "    <tr style=\"text-align: right;\">\n",
       "      <th></th>\n",
       "      <th>Datetime</th>\n",
       "      <th>Rental_Bicycles_Count</th>\n",
       "      <th>time_diff</th>\n",
       "    </tr>\n",
       "  </thead>\n",
       "  <tbody>\n",
       "    <tr>\n",
       "      <th>147</th>\n",
       "      <td>2013-01-04 03:00:00</td>\n",
       "      <td>3</td>\n",
       "      <td>2.0</td>\n",
       "    </tr>\n",
       "    <tr>\n",
       "      <th>289</th>\n",
       "      <td>2013-01-07 03:00:00</td>\n",
       "      <td>4</td>\n",
       "      <td>2.0</td>\n",
       "    </tr>\n",
       "    <tr>\n",
       "      <th>957</th>\n",
       "      <td>2013-01-21 04:00:00</td>\n",
       "      <td>3</td>\n",
       "      <td>2.0</td>\n",
       "    </tr>\n",
       "    <tr>\n",
       "      <th>1003</th>\n",
       "      <td>2013-01-22 04:00:00</td>\n",
       "      <td>7</td>\n",
       "      <td>2.0</td>\n",
       "    </tr>\n",
       "    <tr>\n",
       "      <th>1098</th>\n",
       "      <td>2013-01-24 04:00:00</td>\n",
       "      <td>4</td>\n",
       "      <td>2.0</td>\n",
       "    </tr>\n",
       "    <tr>\n",
       "      <th>...</th>\n",
       "      <td>...</td>\n",
       "      <td>...</td>\n",
       "      <td>...</td>\n",
       "    </tr>\n",
       "    <tr>\n",
       "      <th>53816</th>\n",
       "      <td>2016-01-30 03:00:00</td>\n",
       "      <td>4</td>\n",
       "      <td>2.0</td>\n",
       "    </tr>\n",
       "    <tr>\n",
       "      <th>55207</th>\n",
       "      <td>2016-02-28 03:00:00</td>\n",
       "      <td>2</td>\n",
       "      <td>2.0</td>\n",
       "    </tr>\n",
       "    <tr>\n",
       "      <th>55256</th>\n",
       "      <td>2016-02-29 04:00:00</td>\n",
       "      <td>2</td>\n",
       "      <td>2.0</td>\n",
       "    </tr>\n",
       "    <tr>\n",
       "      <th>55493</th>\n",
       "      <td>2016-03-05 03:00:00</td>\n",
       "      <td>2</td>\n",
       "      <td>2.0</td>\n",
       "    </tr>\n",
       "    <tr>\n",
       "      <th>55731</th>\n",
       "      <td>2016-03-10 03:00:00</td>\n",
       "      <td>38</td>\n",
       "      <td>2.0</td>\n",
       "    </tr>\n",
       "  </tbody>\n",
       "</table>\n",
       "<p>89 rows × 3 columns</p>\n",
       "</div>"
      ],
      "text/plain": [
       "                 Datetime  Rental_Bicycles_Count  time_diff\n",
       "147   2013-01-04 03:00:00                      3        2.0\n",
       "289   2013-01-07 03:00:00                      4        2.0\n",
       "957   2013-01-21 04:00:00                      3        2.0\n",
       "1003  2013-01-22 04:00:00                      7        2.0\n",
       "1098  2013-01-24 04:00:00                      4        2.0\n",
       "...                   ...                    ...        ...\n",
       "53816 2016-01-30 03:00:00                      4        2.0\n",
       "55207 2016-02-28 03:00:00                      2        2.0\n",
       "55256 2016-02-29 04:00:00                      2        2.0\n",
       "55493 2016-03-05 03:00:00                      2        2.0\n",
       "55731 2016-03-10 03:00:00                     38        2.0\n",
       "\n",
       "[89 rows x 3 columns]"
      ]
     },
     "execution_count": 21,
     "metadata": {},
     "output_type": "execute_result"
    }
   ],
   "source": [
    "df_occasional[df_occasional[\"time_diff\"] > 1]"
   ]
  },
  {
   "cell_type": "code",
   "execution_count": 22,
   "metadata": {},
   "outputs": [
    {
     "name": "stderr",
     "output_type": "stream",
     "text": [
      "/var/folders/pw/wmjkx07d5bj7gwx0bm5zkdjm0000gp/T/ipykernel_80938/2121884388.py:1: FutureWarning: A value is trying to be set on a copy of a DataFrame or Series through chained assignment using an inplace method.\n",
      "The behavior will change in pandas 3.0. This inplace method will never work because the intermediate object on which we are setting values always behaves as a copy.\n",
      "\n",
      "For example, when doing 'df[col].method(value, inplace=True)', try using 'df.method({col: value}, inplace=True)' or df[col] = df[col].method(value) instead, to perform the operation inplace on the original object.\n",
      "\n",
      "\n",
      "  df_occasional[\"time_diff\"].fillna(0, inplace=True)\n"
     ]
    }
   ],
   "source": [
    "df_occasional[\"time_diff\"].fillna(0, inplace=True)"
   ]
  },
  {
   "cell_type": "code",
   "execution_count": 23,
   "metadata": {},
   "outputs": [],
   "source": [
    "df_occasional = df_occasional.loc[df_occasional[\"time_diff\"] <= 1, [\"Datetime\", \"Rental_Bicycles_Count\"]].set_index(\"Datetime\")"
   ]
  },
  {
   "cell_type": "code",
   "execution_count": 24,
   "metadata": {},
   "outputs": [
    {
     "data": {
      "text/html": [
       "<div>\n",
       "<style scoped>\n",
       "    .dataframe tbody tr th:only-of-type {\n",
       "        vertical-align: middle;\n",
       "    }\n",
       "\n",
       "    .dataframe tbody tr th {\n",
       "        vertical-align: top;\n",
       "    }\n",
       "\n",
       "    .dataframe thead th {\n",
       "        text-align: right;\n",
       "    }\n",
       "</style>\n",
       "<table border=\"1\" class=\"dataframe\">\n",
       "  <thead>\n",
       "    <tr style=\"text-align: right;\">\n",
       "      <th></th>\n",
       "      <th>Rental_Bicycles_Count</th>\n",
       "    </tr>\n",
       "    <tr>\n",
       "      <th>Datetime</th>\n",
       "      <th></th>\n",
       "    </tr>\n",
       "  </thead>\n",
       "  <tbody>\n",
       "    <tr>\n",
       "      <th>2013-01-01 00:00:00</th>\n",
       "      <td>20</td>\n",
       "    </tr>\n",
       "    <tr>\n",
       "      <th>2013-01-01 01:00:00</th>\n",
       "      <td>23</td>\n",
       "    </tr>\n",
       "    <tr>\n",
       "      <th>2013-01-01 02:00:00</th>\n",
       "      <td>20</td>\n",
       "    </tr>\n",
       "    <tr>\n",
       "      <th>2013-01-01 03:00:00</th>\n",
       "      <td>9</td>\n",
       "    </tr>\n",
       "    <tr>\n",
       "      <th>2013-01-01 04:00:00</th>\n",
       "      <td>7</td>\n",
       "    </tr>\n",
       "  </tbody>\n",
       "</table>\n",
       "</div>"
      ],
      "text/plain": [
       "                     Rental_Bicycles_Count\n",
       "Datetime                                  \n",
       "2013-01-01 00:00:00                     20\n",
       "2013-01-01 01:00:00                     23\n",
       "2013-01-01 02:00:00                     20\n",
       "2013-01-01 03:00:00                      9\n",
       "2013-01-01 04:00:00                      7"
      ]
     },
     "execution_count": 24,
     "metadata": {},
     "output_type": "execute_result"
    }
   ],
   "source": [
    "df_occasional.head()"
   ]
  },
  {
   "cell_type": "code",
   "execution_count": 25,
   "metadata": {},
   "outputs": [
    {
     "data": {
      "text/plain": [
       "(29742, 1)"
      ]
     },
     "execution_count": 25,
     "metadata": {},
     "output_type": "execute_result"
    }
   ],
   "source": [
    "df_occasional.shape"
   ]
  },
  {
   "cell_type": "code",
   "execution_count": 26,
   "metadata": {},
   "outputs": [],
   "source": [
    "df_subscribed = df.loc[df[\"User_type\"] == \"subscribed\", [\"Datetime\", \"Rental_Bicycles_Count\"]]"
   ]
  },
  {
   "cell_type": "code",
   "execution_count": 27,
   "metadata": {},
   "outputs": [
    {
     "data": {
      "text/html": [
       "<div>\n",
       "<style scoped>\n",
       "    .dataframe tbody tr th:only-of-type {\n",
       "        vertical-align: middle;\n",
       "    }\n",
       "\n",
       "    .dataframe tbody tr th {\n",
       "        vertical-align: top;\n",
       "    }\n",
       "\n",
       "    .dataframe thead th {\n",
       "        text-align: right;\n",
       "    }\n",
       "</style>\n",
       "<table border=\"1\" class=\"dataframe\">\n",
       "  <thead>\n",
       "    <tr style=\"text-align: right;\">\n",
       "      <th></th>\n",
       "      <th>Datetime</th>\n",
       "      <th>Rental_Bicycles_Count</th>\n",
       "    </tr>\n",
       "  </thead>\n",
       "  <tbody>\n",
       "    <tr>\n",
       "      <th>1</th>\n",
       "      <td>2013-01-01 00:00:00</td>\n",
       "      <td>26</td>\n",
       "    </tr>\n",
       "    <tr>\n",
       "      <th>3</th>\n",
       "      <td>2013-01-01 01:00:00</td>\n",
       "      <td>23</td>\n",
       "    </tr>\n",
       "    <tr>\n",
       "      <th>5</th>\n",
       "      <td>2013-01-01 02:00:00</td>\n",
       "      <td>28</td>\n",
       "    </tr>\n",
       "    <tr>\n",
       "      <th>7</th>\n",
       "      <td>2013-01-01 03:00:00</td>\n",
       "      <td>7</td>\n",
       "    </tr>\n",
       "    <tr>\n",
       "      <th>9</th>\n",
       "      <td>2013-01-01 04:00:00</td>\n",
       "      <td>5</td>\n",
       "    </tr>\n",
       "  </tbody>\n",
       "</table>\n",
       "</div>"
      ],
      "text/plain": [
       "             Datetime  Rental_Bicycles_Count\n",
       "1 2013-01-01 00:00:00                     26\n",
       "3 2013-01-01 01:00:00                     23\n",
       "5 2013-01-01 02:00:00                     28\n",
       "7 2013-01-01 03:00:00                      7\n",
       "9 2013-01-01 04:00:00                      5"
      ]
     },
     "execution_count": 27,
     "metadata": {},
     "output_type": "execute_result"
    }
   ],
   "source": [
    "df_subscribed.head()"
   ]
  },
  {
   "cell_type": "code",
   "execution_count": 28,
   "metadata": {},
   "outputs": [
    {
     "data": {
      "text/plain": [
       "(29878, 2)"
      ]
     },
     "execution_count": 28,
     "metadata": {},
     "output_type": "execute_result"
    }
   ],
   "source": [
    "df_subscribed.shape"
   ]
  },
  {
   "cell_type": "code",
   "execution_count": 29,
   "metadata": {},
   "outputs": [],
   "source": [
    "df_subscribed[\"time_diff\"] = df_subscribed[\"Datetime\"] - df_subscribed[\"Datetime\"].shift(1)\n",
    "df_subscribed[\"time_diff\"] = df_subscribed[\"time_diff\"].dt.total_seconds() / 3600"
   ]
  },
  {
   "cell_type": "code",
   "execution_count": 30,
   "metadata": {},
   "outputs": [
    {
     "data": {
      "text/plain": [
       "time_diff\n",
       "1.0    29834\n",
       "2.0       37\n",
       "3.0        5\n",
       "4.0        1\n",
       "Name: count, dtype: int64"
      ]
     },
     "execution_count": 30,
     "metadata": {},
     "output_type": "execute_result"
    }
   ],
   "source": [
    "df_subscribed[\"time_diff\"].value_counts()"
   ]
  },
  {
   "cell_type": "code",
   "execution_count": 31,
   "metadata": {},
   "outputs": [
    {
     "name": "stderr",
     "output_type": "stream",
     "text": [
      "/var/folders/pw/wmjkx07d5bj7gwx0bm5zkdjm0000gp/T/ipykernel_80938/728619319.py:1: FutureWarning: A value is trying to be set on a copy of a DataFrame or Series through chained assignment using an inplace method.\n",
      "The behavior will change in pandas 3.0. This inplace method will never work because the intermediate object on which we are setting values always behaves as a copy.\n",
      "\n",
      "For example, when doing 'df[col].method(value, inplace=True)', try using 'df.method({col: value}, inplace=True)' or df[col] = df[col].method(value) instead, to perform the operation inplace on the original object.\n",
      "\n",
      "\n",
      "  df_subscribed[\"time_diff\"].fillna(0, inplace=True)\n"
     ]
    }
   ],
   "source": [
    "df_subscribed[\"time_diff\"].fillna(0, inplace=True)"
   ]
  },
  {
   "cell_type": "code",
   "execution_count": 32,
   "metadata": {},
   "outputs": [],
   "source": [
    "df_subscribed = df_subscribed.loc[df_subscribed[\"time_diff\"] <= 1, [\"Datetime\", \"Rental_Bicycles_Count\"]].set_index(\"Datetime\")"
   ]
  },
  {
   "cell_type": "code",
   "execution_count": 33,
   "metadata": {},
   "outputs": [
    {
     "data": {
      "text/html": [
       "<div>\n",
       "<style scoped>\n",
       "    .dataframe tbody tr th:only-of-type {\n",
       "        vertical-align: middle;\n",
       "    }\n",
       "\n",
       "    .dataframe tbody tr th {\n",
       "        vertical-align: top;\n",
       "    }\n",
       "\n",
       "    .dataframe thead th {\n",
       "        text-align: right;\n",
       "    }\n",
       "</style>\n",
       "<table border=\"1\" class=\"dataframe\">\n",
       "  <thead>\n",
       "    <tr style=\"text-align: right;\">\n",
       "      <th></th>\n",
       "      <th>Rental_Bicycles_Count</th>\n",
       "    </tr>\n",
       "    <tr>\n",
       "      <th>Datetime</th>\n",
       "      <th></th>\n",
       "    </tr>\n",
       "  </thead>\n",
       "  <tbody>\n",
       "    <tr>\n",
       "      <th>2013-01-01 00:00:00</th>\n",
       "      <td>26</td>\n",
       "    </tr>\n",
       "    <tr>\n",
       "      <th>2013-01-01 01:00:00</th>\n",
       "      <td>23</td>\n",
       "    </tr>\n",
       "    <tr>\n",
       "      <th>2013-01-01 02:00:00</th>\n",
       "      <td>28</td>\n",
       "    </tr>\n",
       "    <tr>\n",
       "      <th>2013-01-01 03:00:00</th>\n",
       "      <td>7</td>\n",
       "    </tr>\n",
       "    <tr>\n",
       "      <th>2013-01-01 04:00:00</th>\n",
       "      <td>5</td>\n",
       "    </tr>\n",
       "  </tbody>\n",
       "</table>\n",
       "</div>"
      ],
      "text/plain": [
       "                     Rental_Bicycles_Count\n",
       "Datetime                                  \n",
       "2013-01-01 00:00:00                     26\n",
       "2013-01-01 01:00:00                     23\n",
       "2013-01-01 02:00:00                     28\n",
       "2013-01-01 03:00:00                      7\n",
       "2013-01-01 04:00:00                      5"
      ]
     },
     "execution_count": 33,
     "metadata": {},
     "output_type": "execute_result"
    }
   ],
   "source": [
    "df_subscribed.head()"
   ]
  },
  {
   "cell_type": "code",
   "execution_count": 34,
   "metadata": {},
   "outputs": [
    {
     "data": {
      "text/plain": [
       "(29835, 1)"
      ]
     },
     "execution_count": 34,
     "metadata": {},
     "output_type": "execute_result"
    }
   ],
   "source": [
    "df_subscribed.shape"
   ]
  },
  {
   "cell_type": "code",
   "execution_count": 35,
   "metadata": {},
   "outputs": [
    {
     "data": {
      "image/png": "[encoded data removed]",
      "text/plain": [
       "<Figure size 1000x400 with 2 Axes>"
      ]
     },
     "metadata": {},
     "output_type": "display_data"
    }
   ],
   "source": [
    "fig, (ax1, ax2) = plt.subplots(1, 2, figsize=(10,4))\n",
    "\n",
    "ax1.plot(df_occasional, label=\"occasional_rental\")\n",
    "ax1.set_xlabel('Time')\n",
    "ax1.set_ylabel(\"Rental Count\")\n",
    "ax1.set_title(\"Occasional Rental\")\n",
    "ax2.plot(df_subscribed, label=\"subscribed_rental\")\n",
    "ax2.set_xlabel('Time')\n",
    "ax2.set_ylabel(\"Rental Count\")\n",
    "ax2.set_title(\"Subscibed Rental\")\n",
    "ax1.legend()\n",
    "ax2.legend()\n",
    "ax1.grid(True)\n",
    "ax2.grid(True)\n",
    "\n",
    "plt.tight_layout()\n",
    "plt.show()"
   ]
  },
  {
   "cell_type": "code",
   "execution_count": 36,
   "metadata": {},
   "outputs": [
    {
     "data": {
      "text/html": [
       "<div>\n",
       "<style scoped>\n",
       "    .dataframe tbody tr th:only-of-type {\n",
       "        vertical-align: middle;\n",
       "    }\n",
       "\n",
       "    .dataframe tbody tr th {\n",
       "        vertical-align: top;\n",
       "    }\n",
       "\n",
       "    .dataframe thead th {\n",
       "        text-align: right;\n",
       "    }\n",
       "</style>\n",
       "<table border=\"1\" class=\"dataframe\">\n",
       "  <thead>\n",
       "    <tr style=\"text-align: right;\">\n",
       "      <th></th>\n",
       "      <th>Rental_Bicycles_Count</th>\n",
       "    </tr>\n",
       "    <tr>\n",
       "      <th>Datetime</th>\n",
       "      <th></th>\n",
       "    </tr>\n",
       "  </thead>\n",
       "  <tbody>\n",
       "    <tr>\n",
       "      <th>2013-01-01 00:00:00</th>\n",
       "      <td>26</td>\n",
       "    </tr>\n",
       "    <tr>\n",
       "      <th>2013-01-01 01:00:00</th>\n",
       "      <td>23</td>\n",
       "    </tr>\n",
       "    <tr>\n",
       "      <th>2013-01-01 02:00:00</th>\n",
       "      <td>28</td>\n",
       "    </tr>\n",
       "    <tr>\n",
       "      <th>2013-01-01 03:00:00</th>\n",
       "      <td>7</td>\n",
       "    </tr>\n",
       "    <tr>\n",
       "      <th>2013-01-01 04:00:00</th>\n",
       "      <td>5</td>\n",
       "    </tr>\n",
       "  </tbody>\n",
       "</table>\n",
       "</div>"
      ],
      "text/plain": [
       "                     Rental_Bicycles_Count\n",
       "Datetime                                  \n",
       "2013-01-01 00:00:00                     26\n",
       "2013-01-01 01:00:00                     23\n",
       "2013-01-01 02:00:00                     28\n",
       "2013-01-01 03:00:00                      7\n",
       "2013-01-01 04:00:00                      5"
      ]
     },
     "execution_count": 36,
     "metadata": {},
     "output_type": "execute_result"
    }
   ],
   "source": [
    "df_subscribed.head()"
   ]
  },
  {
   "cell_type": "code",
   "execution_count": 37,
   "metadata": {},
   "outputs": [
    {
     "data": {
      "text/plain": [
       "pandas.core.indexes.datetimes.DatetimeIndex"
      ]
     },
     "execution_count": 37,
     "metadata": {},
     "output_type": "execute_result"
    }
   ],
   "source": [
    "type(df_occasional.index)"
   ]
  },
  {
   "cell_type": "code",
   "execution_count": 38,
   "metadata": {},
   "outputs": [],
   "source": [
    "result_add_subscribed = seasonal_decompose(df_subscribed, model='additive', period=24)"
   ]
  },
  {
   "cell_type": "code",
   "execution_count": 39,
   "metadata": {},
   "outputs": [
    {
     "data": {
      "image/png": "[encoded data removed]",
      "text/plain": [
       "<Figure size 900x300 with 1 Axes>"
      ]
     },
     "metadata": {},
     "output_type": "display_data"
    }
   ],
   "source": [
    "  \n",
    "plt.figure(figsize=(9, 3))\n",
    " \n",
    "plt.plot(result_add_subscribed.trend, label='Additive Trend Subscribed')\n",
    "plt.legend()\n",
    "plt.show()"
   ]
  },
  {
   "cell_type": "code",
   "execution_count": 40,
   "metadata": {},
   "outputs": [
    {
     "data": {
      "image/png": "[encoded data removed]",
      "text/plain": [
       "<Figure size 900x300 with 1 Axes>"
      ]
     },
     "metadata": {},
     "output_type": "display_data"
    }
   ],
   "source": [
    "plt.figure(figsize=(9, 3))\n",
    " \n",
    "plt.plot(result_add_subscribed.seasonal, label='Additive Seasonal Subscribed')\n",
    "plt.legend()\n",
    "plt.show()"
   ]
  },
  {
   "cell_type": "code",
   "execution_count": 41,
   "metadata": {},
   "outputs": [
    {
     "data": {
      "text/plain": [
       "Rental_Bicycles_Count\n",
       "11      282\n",
       "8       281\n",
       "12      281\n",
       "7       270\n",
       "10      267\n",
       "       ... \n",
       "874       1\n",
       "916       1\n",
       "1055      1\n",
       "1352      1\n",
       "1090      1\n",
       "Name: count, Length: 1255, dtype: int64"
      ]
     },
     "execution_count": 41,
     "metadata": {},
     "output_type": "execute_result"
    }
   ],
   "source": [
    "df_subscribed[\"Rental_Bicycles_Count\"].value_counts()"
   ]
  },
  {
   "cell_type": "code",
   "execution_count": 42,
   "metadata": {},
   "outputs": [
    {
     "data": {
      "text/plain": [
       "np.int64(1)"
      ]
     },
     "execution_count": 42,
     "metadata": {},
     "output_type": "execute_result"
    }
   ],
   "source": [
    "df_subscribed[\"Rental_Bicycles_Count\"].min()"
   ]
  },
  {
   "cell_type": "code",
   "execution_count": 43,
   "metadata": {},
   "outputs": [
    {
     "data": {
      "text/plain": [
       "np.int64(1619)"
      ]
     },
     "execution_count": 43,
     "metadata": {},
     "output_type": "execute_result"
    }
   ],
   "source": [
    "df_subscribed[\"Rental_Bicycles_Count\"].max()"
   ]
  },
  {
   "cell_type": "code",
   "execution_count": 44,
   "metadata": {},
   "outputs": [],
   "source": [
    "df_subscribed[\"Seasonal First Differencing\"] = df_subscribed[\"Rental_Bicycles_Count\"] - df_subscribed[\"Rental_Bicycles_Count\"].shift(24)"
   ]
  },
  {
   "cell_type": "code",
   "execution_count": 45,
   "metadata": {},
   "outputs": [
    {
     "data": {
      "image/png": "[encoded data removed]",
      "text/plain": [
       "<Figure size 640x480 with 1 Axes>"
      ]
     },
     "metadata": {},
     "output_type": "display_data"
    }
   ],
   "source": [
    "df_subscribed[\"Seasonal First Differencing\"].plot()\n",
    "plt.show()"
   ]
  },
  {
   "cell_type": "code",
   "execution_count": 46,
   "metadata": {},
   "outputs": [
    {
     "data": {
      "text/plain": [
       "Index(['Rental_Bicycles_Count', 'Seasonal First Differencing'], dtype='object')"
      ]
     },
     "execution_count": 46,
     "metadata": {},
     "output_type": "execute_result"
    }
   ],
   "source": [
    "df_subscribed.columns"
   ]
  },
  {
   "cell_type": "code",
   "execution_count": 47,
   "metadata": {},
   "outputs": [],
   "source": [
    "result_multiplicative_subscribed = seasonal_decompose(df_subscribed[\"Rental_Bicycles_Count\"], model='multiplicative', period=24)"
   ]
  },
  {
   "cell_type": "code",
   "execution_count": 48,
   "metadata": {},
   "outputs": [
    {
     "data": {
      "text/plain": [
       "<matplotlib.legend.Legend at 0x14eff6190>"
      ]
     },
     "execution_count": 48,
     "metadata": {},
     "output_type": "execute_result"
    },
    {
     "data": {
      "image/png": "[encoded data removed]",
      "text/plain": [
       "<Figure size 900x300 with 1 Axes>"
      ]
     },
     "metadata": {},
     "output_type": "display_data"
    }
   ],
   "source": [
    "plt.figure(figsize=(9, 3))\n",
    " \n",
    "plt.plot(result_multiplicative_subscribed.trend, label='Multiplicative Trend Subscribed')\n",
    "plt.legend()"
   ]
  },
  {
   "cell_type": "code",
   "execution_count": 49,
   "metadata": {},
   "outputs": [
    {
     "data": {
      "image/png": "[encoded data removed]",
      "text/plain": [
       "<Figure size 900x300 with 1 Axes>"
      ]
     },
     "metadata": {},
     "output_type": "display_data"
    }
   ],
   "source": [
    "plt.figure(figsize=(9, 3))\n",
    " \n",
    "plt.plot(result_multiplicative_subscribed.seasonal, label='Multiplicative Seasonal Subscribed')\n",
    "plt.legend()\n",
    "plt.show()"
   ]
  },
  {
   "cell_type": "code",
   "execution_count": 50,
   "metadata": {},
   "outputs": [],
   "source": [
    "sma_window = 24\n",
    "sma_subscribed = df_subscribed.rolling(window=sma_window).mean()"
   ]
  },
  {
   "cell_type": "code",
   "execution_count": 51,
   "metadata": {},
   "outputs": [],
   "source": [
    "ema_window = 24*7\n",
    "ema_subscribed = df_subscribed.ewm(span=ema_window).mean()"
   ]
  },
  {
   "cell_type": "code",
   "execution_count": 52,
   "metadata": {},
   "outputs": [
    {
     "data": {
      "text/html": [
       "<div>\n",
       "<style scoped>\n",
       "    .dataframe tbody tr th:only-of-type {\n",
       "        vertical-align: middle;\n",
       "    }\n",
       "\n",
       "    .dataframe tbody tr th {\n",
       "        vertical-align: top;\n",
       "    }\n",
       "\n",
       "    .dataframe thead th {\n",
       "        text-align: right;\n",
       "    }\n",
       "</style>\n",
       "<table border=\"1\" class=\"dataframe\">\n",
       "  <thead>\n",
       "    <tr style=\"text-align: right;\">\n",
       "      <th></th>\n",
       "      <th>Rental_Bicycles_Count</th>\n",
       "      <th>Seasonal First Differencing</th>\n",
       "    </tr>\n",
       "    <tr>\n",
       "      <th>Datetime</th>\n",
       "      <th></th>\n",
       "      <th></th>\n",
       "    </tr>\n",
       "  </thead>\n",
       "  <tbody>\n",
       "    <tr>\n",
       "      <th>2013-01-01 00:00:00</th>\n",
       "      <td>26.000000</td>\n",
       "      <td>NaN</td>\n",
       "    </tr>\n",
       "    <tr>\n",
       "      <th>2013-01-01 01:00:00</th>\n",
       "      <td>24.491071</td>\n",
       "      <td>NaN</td>\n",
       "    </tr>\n",
       "    <tr>\n",
       "      <th>2013-01-01 02:00:00</th>\n",
       "      <td>25.674666</td>\n",
       "      <td>NaN</td>\n",
       "    </tr>\n",
       "    <tr>\n",
       "      <th>2013-01-01 03:00:00</th>\n",
       "      <td>20.922302</td>\n",
       "      <td>NaN</td>\n",
       "    </tr>\n",
       "    <tr>\n",
       "      <th>2013-01-01 04:00:00</th>\n",
       "      <td>17.661572</td>\n",
       "      <td>NaN</td>\n",
       "    </tr>\n",
       "    <tr>\n",
       "      <th>...</th>\n",
       "      <td>...</td>\n",
       "      <td>...</td>\n",
       "    </tr>\n",
       "    <tr>\n",
       "      <th>2016-05-31 19:00:00</th>\n",
       "      <td>492.679430</td>\n",
       "      <td>18.991991</td>\n",
       "    </tr>\n",
       "    <tr>\n",
       "      <th>2016-05-31 20:00:00</th>\n",
       "      <td>494.624052</td>\n",
       "      <td>17.571967</td>\n",
       "    </tr>\n",
       "    <tr>\n",
       "      <th>2016-05-31 21:00:00</th>\n",
       "      <td>495.030868</td>\n",
       "      <td>17.387684</td>\n",
       "    </tr>\n",
       "    <tr>\n",
       "      <th>2016-05-31 22:00:00</th>\n",
       "      <td>494.557130</td>\n",
       "      <td>17.489605</td>\n",
       "    </tr>\n",
       "    <tr>\n",
       "      <th>2016-05-31 23:00:00</th>\n",
       "      <td>494.029827</td>\n",
       "      <td>19.827006</td>\n",
       "    </tr>\n",
       "  </tbody>\n",
       "</table>\n",
       "<p>29835 rows × 2 columns</p>\n",
       "</div>"
      ],
      "text/plain": [
       "                     Rental_Bicycles_Count  Seasonal First Differencing\n",
       "Datetime                                                               \n",
       "2013-01-01 00:00:00              26.000000                          NaN\n",
       "2013-01-01 01:00:00              24.491071                          NaN\n",
       "2013-01-01 02:00:00              25.674666                          NaN\n",
       "2013-01-01 03:00:00              20.922302                          NaN\n",
       "2013-01-01 04:00:00              17.661572                          NaN\n",
       "...                                    ...                          ...\n",
       "2016-05-31 19:00:00             492.679430                    18.991991\n",
       "2016-05-31 20:00:00             494.624052                    17.571967\n",
       "2016-05-31 21:00:00             495.030868                    17.387684\n",
       "2016-05-31 22:00:00             494.557130                    17.489605\n",
       "2016-05-31 23:00:00             494.029827                    19.827006\n",
       "\n",
       "[29835 rows x 2 columns]"
      ]
     },
     "execution_count": 52,
     "metadata": {},
     "output_type": "execute_result"
    }
   ],
   "source": [
    "ema_subscribed"
   ]
  },
  {
   "cell_type": "code",
   "execution_count": 53,
   "metadata": {},
   "outputs": [
    {
     "data": {
      "image/png": "[encoded data removed]",
      "text/plain": [
       "<Figure size 900x300 with 1 Axes>"
      ]
     },
     "metadata": {},
     "output_type": "display_data"
    }
   ],
   "source": [
    "plt.figure(figsize=(9, 3))\n",
    "plt.plot(df_subscribed[\"Rental_Bicycles_Count\"], label='Original Time Series')\n",
    "plt.plot(sma_subscribed[\"Rental_Bicycles_Count\"], label=f'{sma_window}-Hour SMA')\n",
    "plt.plot(ema_subscribed[\"Rental_Bicycles_Count\"], label=f'{ema_window}-Hour EMA')\n",
    "plt.legend()\n",
    "plt.show()"
   ]
  },
  {
   "cell_type": "code",
   "execution_count": 54,
   "metadata": {},
   "outputs": [],
   "source": [
    "from statsmodels.tsa.stattools import adfuller"
   ]
  },
  {
   "cell_type": "code",
   "execution_count": 55,
   "metadata": {},
   "outputs": [
    {
     "name": "stdout",
     "output_type": "stream",
     "text": [
      "Augmneted Dickey_fuller Statistic: -7.241683\n",
      "p-value: 0.000000\n",
      "critical values at different levels:\n",
      "\t1%: -3.431\n",
      "\t5%: -2.862\n",
      "\t10%: -2.567\n"
     ]
    }
   ],
   "source": [
    "res = adfuller(df_subscribed[\"Rental_Bicycles_Count\"].values)\n",
    "# Printing the statistical result of the adfuller test\n",
    "print('Augmneted Dickey_fuller Statistic: %f' % res[0])\n",
    "print('p-value: %f' % res[1])\n",
    " \n",
    "# printing the critical values at different alpha levels.\n",
    "print('critical values at different levels:')\n",
    "for k, v in res[4].items():\n",
    "    print('\\t%s: %.3f' % (k, v))"
   ]
  },
  {
   "cell_type": "code",
   "execution_count": 56,
   "metadata": {},
   "outputs": [
    {
     "name": "stdout",
     "output_type": "stream",
     "text": [
      "Augmneted Dickey_fuller Statistic: -28.802155\n",
      "p-value: 0.000000\n",
      "critical values at different levels:\n",
      "\t1%: -3.431\n",
      "\t5%: -2.862\n",
      "\t10%: -2.567\n"
     ]
    }
   ],
   "source": [
    "res = adfuller(df_subscribed['Seasonal First Differencing'].dropna().values)\n",
    "# Printing the statistical result of the adfuller test\n",
    "print('Augmneted Dickey_fuller Statistic: %f' % res[0])\n",
    "print('p-value: %f' % res[1])\n",
    " \n",
    "# printing the critical values at different alpha levels.\n",
    "print('critical values at different levels:')\n",
    "for k, v in res[4].items():\n",
    "    print('\\t%s: %.3f' % (k, v))"
   ]
  },
  {
   "cell_type": "code",
   "execution_count": 79,
   "metadata": {},
   "outputs": [
    {
     "name": "stdout",
     "output_type": "stream",
     "text": [
      "Augmneted Dickey_fuller Statistic: -11.348984\n",
      "p-value: 0.000000\n",
      "critical values at different levels:\n",
      "\t1%: -3.431\n",
      "\t5%: -2.862\n",
      "\t10%: -2.567\n"
     ]
    }
   ],
   "source": [
    "res = adfuller(df_occasional[\"Rental_Bicycles_Count\"].values)\n",
    "# Printing the statistical result of the adfuller test\n",
    "print('Augmneted Dickey_fuller Statistic: %f' % res[0])\n",
    "print('p-value: %f' % res[1])\n",
    " \n",
    "# printing the critical values at different alpha levels.\n",
    "print('critical values at different levels:')\n",
    "for k, v in res[4].items():\n",
    "    print('\\t%s: %.3f' % (k, v))"
   ]
  },
  {
   "cell_type": "code",
   "execution_count": 57,
   "metadata": {},
   "outputs": [],
   "source": [
    "# df_subscribed.drop(columns=\"Seasonal First Differencing\", inplace=True)"
   ]
  },
  {
   "cell_type": "code",
   "execution_count": 58,
   "metadata": {},
   "outputs": [],
   "source": [
    "from statsmodels.graphics.tsaplots import plot_acf, plot_pacf"
   ]
  },
  {
   "cell_type": "code",
   "execution_count": 80,
   "metadata": {},
   "outputs": [
    {
     "data": {
      "image/png": "[encoded data removed]",
      "text/plain": [
       "<Figure size 1200x600 with 2 Axes>"
      ]
     },
     "metadata": {},
     "output_type": "display_data"
    }
   ],
   "source": [
    "plt.figure(figsize=(12, 6))\n",
    "\n",
    "plt.subplot(211)\n",
    "plot_acf(df_subscribed[\"Rental_Bicycles_Count\"], lags=20, ax=plt.gca())\n",
    "plt.title('Autocorrelation Function (ACF)')\n",
    "\n",
    "# Plotting the PACF\n",
    "plt.subplot(212)\n",
    "plot_pacf(df_subscribed[\"Rental_Bicycles_Count\"], lags=20, ax=plt.gca(), method='ywm')\n",
    "plt.title('Partial Autocorrelation Function (PACF)')\n",
    "\n",
    "plt.tight_layout()\n",
    "plt.show()"
   ]
  },
  {
   "cell_type": "code",
   "execution_count": 81,
   "metadata": {},
   "outputs": [
    {
     "data": {
      "image/png": "[encoded data removed]",
      "text/plain": [
       "<Figure size 1200x600 with 2 Axes>"
      ]
     },
     "metadata": {},
     "output_type": "display_data"
    }
   ],
   "source": [
    "plt.figure(figsize=(12, 6))\n",
    "\n",
    "plt.subplot(211)\n",
    "plot_acf(df_occasional, lags=20, ax=plt.gca())\n",
    "plt.title('Autocorrelation Function (ACF)')\n",
    "\n",
    "# Plotting the PACF\n",
    "plt.subplot(212)\n",
    "plot_pacf(df_occasional, lags=20, ax=plt.gca(), method='ywm')\n",
    "plt.title('Partial Autocorrelation Function (PACF)')\n",
    "\n",
    "plt.tight_layout()\n",
    "plt.show()"
   ]
  },
  {
   "cell_type": "code",
   "execution_count": 60,
   "metadata": {},
   "outputs": [],
   "source": [
    "import statsmodels.api as sm"
   ]
  },
  {
   "cell_type": "code",
   "execution_count": 82,
   "metadata": {},
   "outputs": [
    {
     "name": "stderr",
     "output_type": "stream",
     "text": [
      "/Users/priyanshu.tuli/Desktop/machinehack/.venv/lib/python3.9/site-packages/statsmodels/tsa/base/tsa_model.py:473: ValueWarning: A date index has been provided, but it has no associated frequency information and so will be ignored when e.g. forecasting.\n",
      "  self._init_dates(dates, freq)\n",
      "/Users/priyanshu.tuli/Desktop/machinehack/.venv/lib/python3.9/site-packages/statsmodels/tsa/base/tsa_model.py:473: ValueWarning: A date index has been provided, but it has no associated frequency information and so will be ignored when e.g. forecasting.\n",
      "  self._init_dates(dates, freq)\n"
     ]
    }
   ],
   "source": [
    "model = sm.tsa.statespace.SARIMAX(df_subscribed[\"Rental_Bicycles_Count\"], order=(2, 0, 0), seasonal_order=(2, 0, 0, 24))"
   ]
  },
  {
   "cell_type": "code",
   "execution_count": 83,
   "metadata": {},
   "outputs": [
    {
     "name": "stdout",
     "output_type": "stream",
     "text": [
      "RUNNING THE L-BFGS-B CODE\n",
      "\n",
      "           * * *\n",
      "\n",
      "Machine precision = 2.220D-16\n",
      " N =            5     M =           10\n",
      "\n",
      "At X0         0 variables are exactly at the bounds\n",
      "\n",
      "At iterate    0    f=  5.88407D+00    |proj g|=  6.42368D-02\n"
     ]
    },
    {
     "name": "stderr",
     "output_type": "stream",
     "text": [
      " This problem is unconstrained.\n"
     ]
    },
    {
     "name": "stdout",
     "output_type": "stream",
     "text": [
      "\n",
      "At iterate    5    f=  5.85191D+00    |proj g|=  8.09853D-02\n",
      "\n",
      "At iterate   10    f=  5.83981D+00    |proj g|=  5.18857D-03\n",
      "\n",
      "At iterate   15    f=  5.78861D+00    |proj g|=  4.63087D-02\n",
      "\n",
      "At iterate   20    f=  5.74976D+00    |proj g|=  6.89396D-03\n",
      "\n",
      "At iterate   25    f=  5.70852D+00    |proj g|=  5.62418D-02\n",
      "\n",
      "At iterate   30    f=  5.69910D+00    |proj g|=  4.00409D-04\n",
      "\n",
      "           * * *\n",
      "\n",
      "Tit   = total number of iterations\n",
      "Tnf   = total number of function evaluations\n",
      "Tnint = total number of segments explored during Cauchy searches\n",
      "Skip  = number of BFGS updates skipped\n",
      "Nact  = number of active bounds at final generalized Cauchy point\n",
      "Projg = norm of the final projected gradient\n",
      "F     = final function value\n",
      "\n",
      "           * * *\n",
      "\n",
      "   N    Tit     Tnf  Tnint  Skip  Nact     Projg        F\n",
      "    5     33     50      1     0     0   9.341D-06   5.699D+00\n",
      "  F =   5.6990995244176945     \n",
      "\n",
      "CONVERGENCE: NORM_OF_PROJECTED_GRADIENT_<=_PGTOL            \n"
     ]
    }
   ],
   "source": [
    "results = model.fit()"
   ]
  },
  {
   "cell_type": "code",
   "execution_count": 84,
   "metadata": {},
   "outputs": [
    {
     "data": {
      "text/html": [
       "<table class=\"simpletable\">\n",
       "<caption>SARIMAX Results</caption>\n",
       "<tr>\n",
       "  <th>Dep. Variable:</th>        <td>Rental_Bicycles_Count</td>     <th>  No. Observations:  </th>    <td>29835</td>   \n",
       "</tr>\n",
       "<tr>\n",
       "  <th>Model:</th>           <td>SARIMAX(2, 0, 0)x(2, 0, 0, 24)</td> <th>  Log Likelihood     </th> <td>-170032.634</td>\n",
       "</tr>\n",
       "<tr>\n",
       "  <th>Date:</th>                   <td>Sun, 25 Aug 2024</td>        <th>  AIC                </th> <td>340075.269</td> \n",
       "</tr>\n",
       "<tr>\n",
       "  <th>Time:</th>                       <td>20:50:06</td>            <th>  BIC                </th> <td>340116.786</td> \n",
       "</tr>\n",
       "<tr>\n",
       "  <th>Sample:</th>                         <td>0</td>               <th>  HQIC               </th> <td>340088.593</td> \n",
       "</tr>\n",
       "<tr>\n",
       "  <th></th>                            <td> - 29835</td>            <th>                     </th>      <td> </td>     \n",
       "</tr>\n",
       "<tr>\n",
       "  <th>Covariance Type:</th>               <td>opg</td>              <th>                     </th>      <td> </td>     \n",
       "</tr>\n",
       "</table>\n",
       "<table class=\"simpletable\">\n",
       "<tr>\n",
       "      <td></td>        <th>coef</th>     <th>std err</th>      <th>z</th>      <th>P>|z|</th>  <th>[0.025</th>    <th>0.975]</th>  \n",
       "</tr>\n",
       "<tr>\n",
       "  <th>ar.L1</th>    <td>    1.0400</td> <td>    0.003</td> <td>  360.695</td> <td> 0.000</td> <td>    1.034</td> <td>    1.046</td>\n",
       "</tr>\n",
       "<tr>\n",
       "  <th>ar.L2</th>    <td>   -0.2760</td> <td>    0.004</td> <td>  -65.725</td> <td> 0.000</td> <td>   -0.284</td> <td>   -0.268</td>\n",
       "</tr>\n",
       "<tr>\n",
       "  <th>ar.S.L24</th> <td>    0.8166</td> <td>    0.003</td> <td>  253.361</td> <td> 0.000</td> <td>    0.810</td> <td>    0.823</td>\n",
       "</tr>\n",
       "<tr>\n",
       "  <th>ar.S.L48</th> <td>    0.0040</td> <td>    0.003</td> <td>    1.212</td> <td> 0.226</td> <td>   -0.002</td> <td>    0.011</td>\n",
       "</tr>\n",
       "<tr>\n",
       "  <th>sigma2</th>   <td> 5215.4617</td> <td>   18.323</td> <td>  284.633</td> <td> 0.000</td> <td> 5179.548</td> <td> 5251.375</td>\n",
       "</tr>\n",
       "</table>\n",
       "<table class=\"simpletable\">\n",
       "<tr>\n",
       "  <th>Ljung-Box (L1) (Q):</th>     <td>2.39</td> <th>  Jarque-Bera (JB):  </th> <td>116849.00</td>\n",
       "</tr>\n",
       "<tr>\n",
       "  <th>Prob(Q):</th>                <td>0.12</td> <th>  Prob(JB):          </th>   <td>0.00</td>   \n",
       "</tr>\n",
       "<tr>\n",
       "  <th>Heteroskedasticity (H):</th> <td>3.52</td> <th>  Skew:              </th>   <td>0.53</td>   \n",
       "</tr>\n",
       "<tr>\n",
       "  <th>Prob(H) (two-sided):</th>    <td>0.00</td> <th>  Kurtosis:          </th>   <td>12.64</td>  \n",
       "</tr>\n",
       "</table><br/><br/>Warnings:<br/>[1] Covariance matrix calculated using the outer product of gradients (complex-step)."
      ],
      "text/latex": [
       "\\begin{center}\n",
       "\\begin{tabular}{lclc}\n",
       "\\toprule\n",
       "\\textbf{Dep. Variable:}          &    Rental\\_Bicycles\\_Count     & \\textbf{  No. Observations:  } &    29835     \\\\\n",
       "\\textbf{Model:}                  & SARIMAX(2, 0, 0)x(2, 0, 0, 24) & \\textbf{  Log Likelihood     } & -170032.634  \\\\\n",
       "\\textbf{Date:}                   &        Sun, 25 Aug 2024        & \\textbf{  AIC                } &  340075.269  \\\\\n",
       "\\textbf{Time:}                   &            20:50:06            & \\textbf{  BIC                } &  340116.786  \\\\\n",
       "\\textbf{Sample:}                 &               0                & \\textbf{  HQIC               } &  340088.593  \\\\\n",
       "\\textbf{}                        &             - 29835            & \\textbf{                     } &              \\\\\n",
       "\\textbf{Covariance Type:}        &              opg               & \\textbf{                     } &              \\\\\n",
       "\\bottomrule\n",
       "\\end{tabular}\n",
       "\\begin{tabular}{lcccccc}\n",
       "                  & \\textbf{coef} & \\textbf{std err} & \\textbf{z} & \\textbf{P$> |$z$|$} & \\textbf{[0.025} & \\textbf{0.975]}  \\\\\n",
       "\\midrule\n",
       "\\textbf{ar.L1}    &       1.0400  &        0.003     &   360.695  &         0.000        &        1.034    &        1.046     \\\\\n",
       "\\textbf{ar.L2}    &      -0.2760  &        0.004     &   -65.725  &         0.000        &       -0.284    &       -0.268     \\\\\n",
       "\\textbf{ar.S.L24} &       0.8166  &        0.003     &   253.361  &         0.000        &        0.810    &        0.823     \\\\\n",
       "\\textbf{ar.S.L48} &       0.0040  &        0.003     &     1.212  &         0.226        &       -0.002    &        0.011     \\\\\n",
       "\\textbf{sigma2}   &    5215.4617  &       18.323     &   284.633  &         0.000        &     5179.548    &     5251.375     \\\\\n",
       "\\bottomrule\n",
       "\\end{tabular}\n",
       "\\begin{tabular}{lclc}\n",
       "\\textbf{Ljung-Box (L1) (Q):}     & 2.39 & \\textbf{  Jarque-Bera (JB):  } & 116849.00  \\\\\n",
       "\\textbf{Prob(Q):}                & 0.12 & \\textbf{  Prob(JB):          } &    0.00    \\\\\n",
       "\\textbf{Heteroskedasticity (H):} & 3.52 & \\textbf{  Skew:              } &    0.53    \\\\\n",
       "\\textbf{Prob(H) (two-sided):}    & 0.00 & \\textbf{  Kurtosis:          } &   12.64    \\\\\n",
       "\\bottomrule\n",
       "\\end{tabular}\n",
       "%\\caption{SARIMAX Results}\n",
       "\\end{center}\n",
       "\n",
       "Warnings: \\newline\n",
       " [1] Covariance matrix calculated using the outer product of gradients (complex-step)."
      ],
      "text/plain": [
       "<class 'statsmodels.iolib.summary.Summary'>\n",
       "\"\"\"\n",
       "                                     SARIMAX Results                                      \n",
       "==========================================================================================\n",
       "Dep. Variable:              Rental_Bicycles_Count   No. Observations:                29835\n",
       "Model:             SARIMAX(2, 0, 0)x(2, 0, 0, 24)   Log Likelihood             -170032.634\n",
       "Date:                            Sun, 25 Aug 2024   AIC                         340075.269\n",
       "Time:                                    20:50:06   BIC                         340116.786\n",
       "Sample:                                         0   HQIC                        340088.593\n",
       "                                          - 29835                                         \n",
       "Covariance Type:                              opg                                         \n",
       "==============================================================================\n",
       "                 coef    std err          z      P>|z|      [0.025      0.975]\n",
       "------------------------------------------------------------------------------\n",
       "ar.L1          1.0400      0.003    360.695      0.000       1.034       1.046\n",
       "ar.L2         -0.2760      0.004    -65.725      0.000      -0.284      -0.268\n",
       "ar.S.L24       0.8166      0.003    253.361      0.000       0.810       0.823\n",
       "ar.S.L48       0.0040      0.003      1.212      0.226      -0.002       0.011\n",
       "sigma2      5215.4617     18.323    284.633      0.000    5179.548    5251.375\n",
       "===================================================================================\n",
       "Ljung-Box (L1) (Q):                   2.39   Jarque-Bera (JB):            116849.00\n",
       "Prob(Q):                              0.12   Prob(JB):                         0.00\n",
       "Heteroskedasticity (H):               3.52   Skew:                             0.53\n",
       "Prob(H) (two-sided):                  0.00   Kurtosis:                        12.64\n",
       "===================================================================================\n",
       "\n",
       "Warnings:\n",
       "[1] Covariance matrix calculated using the outer product of gradients (complex-step).\n",
       "\"\"\""
      ]
     },
     "execution_count": 84,
     "metadata": {},
     "output_type": "execute_result"
    }
   ],
   "source": [
    "results.summary()"
   ]
  },
  {
   "cell_type": "code",
   "execution_count": 100,
   "metadata": {},
   "outputs": [
    {
     "name": "stderr",
     "output_type": "stream",
     "text": [
      "/Users/priyanshu.tuli/Desktop/machinehack/.venv/lib/python3.9/site-packages/statsmodels/tsa/base/tsa_model.py:473: ValueWarning: A date index has been provided, but it has no associated frequency information and so will be ignored when e.g. forecasting.\n",
      "  self._init_dates(dates, freq)\n",
      "/Users/priyanshu.tuli/Desktop/machinehack/.venv/lib/python3.9/site-packages/statsmodels/tsa/base/tsa_model.py:473: ValueWarning: A date index has been provided, but it has no associated frequency information and so will be ignored when e.g. forecasting.\n",
      "  self._init_dates(dates, freq)\n",
      " This problem is unconstrained.\n"
     ]
    },
    {
     "name": "stdout",
     "output_type": "stream",
     "text": [
      "RUNNING THE L-BFGS-B CODE\n",
      "\n",
      "           * * *\n",
      "\n",
      "Machine precision = 2.220D-16\n",
      " N =            5     M =           10\n",
      "\n",
      "At X0         0 variables are exactly at the bounds\n",
      "\n",
      "At iterate    0    f=  5.34507D+00    |proj g|=  1.75682D-01\n",
      "\n",
      "At iterate    5    f=  5.28057D+00    |proj g|=  1.51230D-01\n",
      "\n",
      "At iterate   10    f=  5.25673D+00    |proj g|=  5.82355D-03\n",
      "\n",
      "At iterate   15    f=  5.25132D+00    |proj g|=  3.58260D-02\n",
      "\n",
      "At iterate   20    f=  5.24669D+00    |proj g|=  1.49977D-02\n",
      "\n",
      "At iterate   25    f=  5.23438D+00    |proj g|=  1.48427D-03\n",
      "\n",
      "           * * *\n",
      "\n",
      "Tit   = total number of iterations\n",
      "Tnf   = total number of function evaluations\n",
      "Tnint = total number of segments explored during Cauchy searches\n",
      "Skip  = number of BFGS updates skipped\n",
      "Nact  = number of active bounds at final generalized Cauchy point\n",
      "Projg = norm of the final projected gradient\n",
      "F     = final function value\n",
      "\n",
      "           * * *\n",
      "\n",
      "   N    Tit     Tnf  Tnint  Skip  Nact     Projg        F\n",
      "    5     29     39      1     0     0   3.315D-07   5.234D+00\n",
      "  F =   5.2343682799438005     \n",
      "\n",
      "CONVERGENCE: NORM_OF_PROJECTED_GRADIENT_<=_PGTOL            \n"
     ]
    },
    {
     "data": {
      "text/html": [
       "<table class=\"simpletable\">\n",
       "<caption>SARIMAX Results</caption>\n",
       "<tr>\n",
       "  <th>Dep. Variable:</th>        <td>Rental_Bicycles_Count</td>     <th>  No. Observations:  </th>    <td>29742</td>   \n",
       "</tr>\n",
       "<tr>\n",
       "  <th>Model:</th>           <td>SARIMAX(2, 0, 0)x(2, 0, 0, 24)</td> <th>  Log Likelihood     </th> <td>-155680.581</td>\n",
       "</tr>\n",
       "<tr>\n",
       "  <th>Date:</th>                   <td>Sun, 25 Aug 2024</td>        <th>  AIC                </th> <td>311371.163</td> \n",
       "</tr>\n",
       "<tr>\n",
       "  <th>Time:</th>                       <td>20:52:20</td>            <th>  BIC                </th> <td>311412.664</td> \n",
       "</tr>\n",
       "<tr>\n",
       "  <th>Sample:</th>                         <td>0</td>               <th>  HQIC               </th> <td>311384.485</td> \n",
       "</tr>\n",
       "<tr>\n",
       "  <th></th>                            <td> - 29742</td>            <th>                     </th>      <td> </td>     \n",
       "</tr>\n",
       "<tr>\n",
       "  <th>Covariance Type:</th>               <td>opg</td>              <th>                     </th>      <td> </td>     \n",
       "</tr>\n",
       "</table>\n",
       "<table class=\"simpletable\">\n",
       "<tr>\n",
       "      <td></td>        <th>coef</th>     <th>std err</th>      <th>z</th>      <th>P>|z|</th>  <th>[0.025</th>    <th>0.975]</th>  \n",
       "</tr>\n",
       "<tr>\n",
       "  <th>ar.L1</th>    <td>    1.1645</td> <td>    0.003</td> <td>  340.512</td> <td> 0.000</td> <td>    1.158</td> <td>    1.171</td>\n",
       "</tr>\n",
       "<tr>\n",
       "  <th>ar.L2</th>    <td>   -0.2554</td> <td>    0.004</td> <td>  -72.698</td> <td> 0.000</td> <td>   -0.262</td> <td>   -0.249</td>\n",
       "</tr>\n",
       "<tr>\n",
       "  <th>ar.S.L24</th> <td>    0.4672</td> <td>    0.003</td> <td>  135.661</td> <td> 0.000</td> <td>    0.460</td> <td>    0.474</td>\n",
       "</tr>\n",
       "<tr>\n",
       "  <th>ar.S.L48</th> <td>    0.1614</td> <td>    0.004</td> <td>   41.282</td> <td> 0.000</td> <td>    0.154</td> <td>    0.169</td>\n",
       "</tr>\n",
       "<tr>\n",
       "  <th>sigma2</th>   <td> 2059.9663</td> <td>    8.638</td> <td>  238.477</td> <td> 0.000</td> <td> 2043.036</td> <td> 2076.897</td>\n",
       "</tr>\n",
       "</table>\n",
       "<table class=\"simpletable\">\n",
       "<tr>\n",
       "  <th>Ljung-Box (L1) (Q):</th>     <td>47.04</td> <th>  Jarque-Bera (JB):  </th> <td>41787.05</td>\n",
       "</tr>\n",
       "<tr>\n",
       "  <th>Prob(Q):</th>                <td>0.00</td>  <th>  Prob(JB):          </th>   <td>0.00</td>  \n",
       "</tr>\n",
       "<tr>\n",
       "  <th>Heteroskedasticity (H):</th> <td>2.22</td>  <th>  Skew:              </th>   <td>0.18</td>  \n",
       "</tr>\n",
       "<tr>\n",
       "  <th>Prob(H) (two-sided):</th>    <td>0.00</td>  <th>  Kurtosis:          </th>   <td>8.80</td>  \n",
       "</tr>\n",
       "</table><br/><br/>Warnings:<br/>[1] Covariance matrix calculated using the outer product of gradients (complex-step)."
      ],
      "text/latex": [
       "\\begin{center}\n",
       "\\begin{tabular}{lclc}\n",
       "\\toprule\n",
       "\\textbf{Dep. Variable:}          &    Rental\\_Bicycles\\_Count     & \\textbf{  No. Observations:  } &    29742     \\\\\n",
       "\\textbf{Model:}                  & SARIMAX(2, 0, 0)x(2, 0, 0, 24) & \\textbf{  Log Likelihood     } & -155680.581  \\\\\n",
       "\\textbf{Date:}                   &        Sun, 25 Aug 2024        & \\textbf{  AIC                } &  311371.163  \\\\\n",
       "\\textbf{Time:}                   &            20:52:20            & \\textbf{  BIC                } &  311412.664  \\\\\n",
       "\\textbf{Sample:}                 &               0                & \\textbf{  HQIC               } &  311384.485  \\\\\n",
       "\\textbf{}                        &             - 29742            & \\textbf{                     } &              \\\\\n",
       "\\textbf{Covariance Type:}        &              opg               & \\textbf{                     } &              \\\\\n",
       "\\bottomrule\n",
       "\\end{tabular}\n",
       "\\begin{tabular}{lcccccc}\n",
       "                  & \\textbf{coef} & \\textbf{std err} & \\textbf{z} & \\textbf{P$> |$z$|$} & \\textbf{[0.025} & \\textbf{0.975]}  \\\\\n",
       "\\midrule\n",
       "\\textbf{ar.L1}    &       1.1645  &        0.003     &   340.512  &         0.000        &        1.158    &        1.171     \\\\\n",
       "\\textbf{ar.L2}    &      -0.2554  &        0.004     &   -72.698  &         0.000        &       -0.262    &       -0.249     \\\\\n",
       "\\textbf{ar.S.L24} &       0.4672  &        0.003     &   135.661  &         0.000        &        0.460    &        0.474     \\\\\n",
       "\\textbf{ar.S.L48} &       0.1614  &        0.004     &    41.282  &         0.000        &        0.154    &        0.169     \\\\\n",
       "\\textbf{sigma2}   &    2059.9663  &        8.638     &   238.477  &         0.000        &     2043.036    &     2076.897     \\\\\n",
       "\\bottomrule\n",
       "\\end{tabular}\n",
       "\\begin{tabular}{lclc}\n",
       "\\textbf{Ljung-Box (L1) (Q):}     & 47.04 & \\textbf{  Jarque-Bera (JB):  } & 41787.05  \\\\\n",
       "\\textbf{Prob(Q):}                &  0.00 & \\textbf{  Prob(JB):          } &   0.00    \\\\\n",
       "\\textbf{Heteroskedasticity (H):} &  2.22 & \\textbf{  Skew:              } &   0.18    \\\\\n",
       "\\textbf{Prob(H) (two-sided):}    &  0.00 & \\textbf{  Kurtosis:          } &   8.80    \\\\\n",
       "\\bottomrule\n",
       "\\end{tabular}\n",
       "%\\caption{SARIMAX Results}\n",
       "\\end{center}\n",
       "\n",
       "Warnings: \\newline\n",
       " [1] Covariance matrix calculated using the outer product of gradients (complex-step)."
      ],
      "text/plain": [
       "<class 'statsmodels.iolib.summary.Summary'>\n",
       "\"\"\"\n",
       "                                     SARIMAX Results                                      \n",
       "==========================================================================================\n",
       "Dep. Variable:              Rental_Bicycles_Count   No. Observations:                29742\n",
       "Model:             SARIMAX(2, 0, 0)x(2, 0, 0, 24)   Log Likelihood             -155680.581\n",
       "Date:                            Sun, 25 Aug 2024   AIC                         311371.163\n",
       "Time:                                    20:52:20   BIC                         311412.664\n",
       "Sample:                                         0   HQIC                        311384.485\n",
       "                                          - 29742                                         \n",
       "Covariance Type:                              opg                                         \n",
       "==============================================================================\n",
       "                 coef    std err          z      P>|z|      [0.025      0.975]\n",
       "------------------------------------------------------------------------------\n",
       "ar.L1          1.1645      0.003    340.512      0.000       1.158       1.171\n",
       "ar.L2         -0.2554      0.004    -72.698      0.000      -0.262      -0.249\n",
       "ar.S.L24       0.4672      0.003    135.661      0.000       0.460       0.474\n",
       "ar.S.L48       0.1614      0.004     41.282      0.000       0.154       0.169\n",
       "sigma2      2059.9663      8.638    238.477      0.000    2043.036    2076.897\n",
       "===================================================================================\n",
       "Ljung-Box (L1) (Q):                  47.04   Jarque-Bera (JB):             41787.05\n",
       "Prob(Q):                              0.00   Prob(JB):                         0.00\n",
       "Heteroskedasticity (H):               2.22   Skew:                             0.18\n",
       "Prob(H) (two-sided):                  0.00   Kurtosis:                         8.80\n",
       "===================================================================================\n",
       "\n",
       "Warnings:\n",
       "[1] Covariance matrix calculated using the outer product of gradients (complex-step).\n",
       "\"\"\""
      ]
     },
     "execution_count": 100,
     "metadata": {},
     "output_type": "execute_result"
    }
   ],
   "source": [
    "model = sm.tsa.statespace.SARIMAX(df_occasional, order=(2, 0, 0), seasonal_order=(2, 0, 0, 24))\n",
    "results = model.fit()\n",
    "results.summary()"
   ]
  },
  {
   "cell_type": "code",
   "execution_count": 85,
   "metadata": {},
   "outputs": [],
   "source": [
    "test_df = pd.read_excel(\"/Users/priyanshu.tuli/Desktop/machinehack/cycle_rental_forecast/Dataset/Test.xlsx\")"
   ]
  },
  {
   "cell_type": "code",
   "execution_count": 86,
   "metadata": {},
   "outputs": [
    {
     "data": {
      "text/html": [
       "<div>\n",
       "<style scoped>\n",
       "    .dataframe tbody tr th:only-of-type {\n",
       "        vertical-align: middle;\n",
       "    }\n",
       "\n",
       "    .dataframe tbody tr th {\n",
       "        vertical-align: top;\n",
       "    }\n",
       "\n",
       "    .dataframe thead th {\n",
       "        text-align: right;\n",
       "    }\n",
       "</style>\n",
       "<table border=\"1\" class=\"dataframe\">\n",
       "  <thead>\n",
       "    <tr style=\"text-align: right;\">\n",
       "      <th></th>\n",
       "      <th>Unnamed: 0</th>\n",
       "      <th>St_Hour</th>\n",
       "      <th>St_Day</th>\n",
       "      <th>St_Month</th>\n",
       "      <th>St_Year</th>\n",
       "      <th>User_type</th>\n",
       "      <th>Datetime</th>\n",
       "    </tr>\n",
       "  </thead>\n",
       "  <tbody>\n",
       "    <tr>\n",
       "      <th>0</th>\n",
       "      <td>0</td>\n",
       "      <td>0</td>\n",
       "      <td>1</td>\n",
       "      <td>6</td>\n",
       "      <td>2016</td>\n",
       "      <td>occasional</td>\n",
       "      <td>2016-06-01 00:00:00</td>\n",
       "    </tr>\n",
       "    <tr>\n",
       "      <th>1</th>\n",
       "      <td>1</td>\n",
       "      <td>0</td>\n",
       "      <td>1</td>\n",
       "      <td>6</td>\n",
       "      <td>2016</td>\n",
       "      <td>subscribed</td>\n",
       "      <td>2016-06-01 00:00:00</td>\n",
       "    </tr>\n",
       "    <tr>\n",
       "      <th>2</th>\n",
       "      <td>2</td>\n",
       "      <td>1</td>\n",
       "      <td>1</td>\n",
       "      <td>6</td>\n",
       "      <td>2016</td>\n",
       "      <td>occasional</td>\n",
       "      <td>2016-06-01 01:00:00</td>\n",
       "    </tr>\n",
       "    <tr>\n",
       "      <th>3</th>\n",
       "      <td>3</td>\n",
       "      <td>1</td>\n",
       "      <td>1</td>\n",
       "      <td>6</td>\n",
       "      <td>2016</td>\n",
       "      <td>subscribed</td>\n",
       "      <td>2016-06-01 01:00:00</td>\n",
       "    </tr>\n",
       "    <tr>\n",
       "      <th>4</th>\n",
       "      <td>4</td>\n",
       "      <td>2</td>\n",
       "      <td>1</td>\n",
       "      <td>6</td>\n",
       "      <td>2016</td>\n",
       "      <td>occasional</td>\n",
       "      <td>2016-06-01 02:00:00</td>\n",
       "    </tr>\n",
       "  </tbody>\n",
       "</table>\n",
       "</div>"
      ],
      "text/plain": [
       "   Unnamed: 0  St_Hour  St_Day  St_Month  St_Year   User_type  \\\n",
       "0           0        0       1         6     2016  occasional   \n",
       "1           1        0       1         6     2016  subscribed   \n",
       "2           2        1       1         6     2016  occasional   \n",
       "3           3        1       1         6     2016  subscribed   \n",
       "4           4        2       1         6     2016  occasional   \n",
       "\n",
       "             Datetime  \n",
       "0 2016-06-01 00:00:00  \n",
       "1 2016-06-01 00:00:00  \n",
       "2 2016-06-01 01:00:00  \n",
       "3 2016-06-01 01:00:00  \n",
       "4 2016-06-01 02:00:00  "
      ]
     },
     "execution_count": 86,
     "metadata": {},
     "output_type": "execute_result"
    }
   ],
   "source": [
    "test_df.head()"
   ]
  },
  {
   "cell_type": "code",
   "execution_count": 87,
   "metadata": {},
   "outputs": [
    {
     "data": {
      "text/plain": [
       "<bound method DataFrame.info of       Unnamed: 0  St_Hour  St_Day  St_Month  St_Year   User_type  \\\n",
       "0              0        0       1         6     2016  occasional   \n",
       "1              1        0       1         6     2016  subscribed   \n",
       "2              2        1       1         6     2016  occasional   \n",
       "3              3        1       1         6     2016  subscribed   \n",
       "4              4        2       1         6     2016  occasional   \n",
       "...          ...      ...     ...       ...      ...         ...   \n",
       "1435        1435       21      30         6     2016  subscribed   \n",
       "1436        1436       22      30         6     2016  occasional   \n",
       "1437        1437       22      30         6     2016  subscribed   \n",
       "1438        1438       23      30         6     2016  occasional   \n",
       "1439        1439       23      30         6     2016  subscribed   \n",
       "\n",
       "                Datetime  \n",
       "0    2016-06-01 00:00:00  \n",
       "1    2016-06-01 00:00:00  \n",
       "2    2016-06-01 01:00:00  \n",
       "3    2016-06-01 01:00:00  \n",
       "4    2016-06-01 02:00:00  \n",
       "...                  ...  \n",
       "1435 2016-06-30 21:00:00  \n",
       "1436 2016-06-30 22:00:00  \n",
       "1437 2016-06-30 22:00:00  \n",
       "1438 2016-06-30 23:00:00  \n",
       "1439 2016-06-30 23:00:00  \n",
       "\n",
       "[1440 rows x 7 columns]>"
      ]
     },
     "execution_count": 87,
     "metadata": {},
     "output_type": "execute_result"
    }
   ],
   "source": [
    "test_df.info"
   ]
  },
  {
   "cell_type": "code",
   "execution_count": 88,
   "metadata": {},
   "outputs": [
    {
     "data": {
      "text/plain": [
       "Timestamp('2016-06-01 00:00:00')"
      ]
     },
     "execution_count": 88,
     "metadata": {},
     "output_type": "execute_result"
    }
   ],
   "source": [
    "test_df[\"Datetime\"].min()"
   ]
  },
  {
   "cell_type": "code",
   "execution_count": 89,
   "metadata": {},
   "outputs": [
    {
     "data": {
      "text/plain": [
       "Timestamp('2016-06-30 23:00:00')"
      ]
     },
     "execution_count": 89,
     "metadata": {},
     "output_type": "execute_result"
    }
   ],
   "source": [
    "test_df[\"Datetime\"].max()"
   ]
  },
  {
   "cell_type": "code",
   "execution_count": 90,
   "metadata": {},
   "outputs": [
    {
     "data": {
      "text/plain": [
       "Timestamp('2016-05-31 23:00:00')"
      ]
     },
     "execution_count": 90,
     "metadata": {},
     "output_type": "execute_result"
    }
   ],
   "source": [
    "df_subscribed.index.max()"
   ]
  },
  {
   "cell_type": "code",
   "execution_count": 91,
   "metadata": {},
   "outputs": [
    {
     "data": {
      "text/plain": [
       "User_type\n",
       "occasional    720\n",
       "subscribed    720\n",
       "Name: count, dtype: int64"
      ]
     },
     "execution_count": 91,
     "metadata": {},
     "output_type": "execute_result"
    }
   ],
   "source": [
    "test_df[\"User_type\"].value_counts()"
   ]
  },
  {
   "cell_type": "code",
   "execution_count": 92,
   "metadata": {},
   "outputs": [],
   "source": [
    "test_df.set_index(\"Datetime\", inplace=True)"
   ]
  },
  {
   "cell_type": "code",
   "execution_count": 93,
   "metadata": {},
   "outputs": [
    {
     "name": "stderr",
     "output_type": "stream",
     "text": [
      "/Users/priyanshu.tuli/Desktop/machinehack/.venv/lib/python3.9/site-packages/statsmodels/tsa/base/tsa_model.py:836: ValueWarning: No supported index is available. Prediction results will be given with an integer index beginning at `start`.\n",
      "  return get_prediction_index(\n",
      "/Users/priyanshu.tuli/Desktop/machinehack/.venv/lib/python3.9/site-packages/statsmodels/tsa/base/tsa_model.py:836: FutureWarning: No supported index is available. In the next version, calling this method in a model without a supported index will result in an exception.\n",
      "  return get_prediction_index(\n"
     ]
    }
   ],
   "source": [
    "forecast_subscribed = results.get_forecast(steps=30 * 24)"
   ]
  },
  {
   "cell_type": "code",
   "execution_count": 94,
   "metadata": {},
   "outputs": [
    {
     "data": {
      "text/html": [
       "<div>\n",
       "<style scoped>\n",
       "    .dataframe tbody tr th:only-of-type {\n",
       "        vertical-align: middle;\n",
       "    }\n",
       "\n",
       "    .dataframe tbody tr th {\n",
       "        vertical-align: top;\n",
       "    }\n",
       "\n",
       "    .dataframe thead th {\n",
       "        text-align: right;\n",
       "    }\n",
       "</style>\n",
       "<table border=\"1\" class=\"dataframe\">\n",
       "  <thead>\n",
       "    <tr style=\"text-align: right;\">\n",
       "      <th></th>\n",
       "      <th>lower Rental_Bicycles_Count</th>\n",
       "      <th>upper Rental_Bicycles_Count</th>\n",
       "    </tr>\n",
       "  </thead>\n",
       "  <tbody>\n",
       "    <tr>\n",
       "      <th>29835</th>\n",
       "      <td>197.520708</td>\n",
       "      <td>480.610667</td>\n",
       "    </tr>\n",
       "    <tr>\n",
       "      <th>29836</th>\n",
       "      <td>20.954469</td>\n",
       "      <td>429.381656</td>\n",
       "    </tr>\n",
       "    <tr>\n",
       "      <th>29837</th>\n",
       "      <td>-90.559072</td>\n",
       "      <td>377.216433</td>\n",
       "    </tr>\n",
       "    <tr>\n",
       "      <th>29838</th>\n",
       "      <td>-154.884340</td>\n",
       "      <td>338.185931</td>\n",
       "    </tr>\n",
       "    <tr>\n",
       "      <th>29839</th>\n",
       "      <td>-188.779498</td>\n",
       "      <td>314.169297</td>\n",
       "    </tr>\n",
       "    <tr>\n",
       "      <th>...</th>\n",
       "      <td>...</td>\n",
       "      <td>...</td>\n",
       "    </tr>\n",
       "    <tr>\n",
       "      <th>30550</th>\n",
       "      <td>-441.534190</td>\n",
       "      <td>446.424576</td>\n",
       "    </tr>\n",
       "    <tr>\n",
       "      <th>30551</th>\n",
       "      <td>-442.175636</td>\n",
       "      <td>445.783130</td>\n",
       "    </tr>\n",
       "    <tr>\n",
       "      <th>30552</th>\n",
       "      <td>-442.528162</td>\n",
       "      <td>445.430604</td>\n",
       "    </tr>\n",
       "    <tr>\n",
       "      <th>30553</th>\n",
       "      <td>-442.731492</td>\n",
       "      <td>445.227274</td>\n",
       "    </tr>\n",
       "    <tr>\n",
       "      <th>30554</th>\n",
       "      <td>-442.747728</td>\n",
       "      <td>445.211038</td>\n",
       "    </tr>\n",
       "  </tbody>\n",
       "</table>\n",
       "<p>720 rows × 2 columns</p>\n",
       "</div>"
      ],
      "text/plain": [
       "       lower Rental_Bicycles_Count  upper Rental_Bicycles_Count\n",
       "29835                   197.520708                   480.610667\n",
       "29836                    20.954469                   429.381656\n",
       "29837                   -90.559072                   377.216433\n",
       "29838                  -154.884340                   338.185931\n",
       "29839                  -188.779498                   314.169297\n",
       "...                            ...                          ...\n",
       "30550                  -441.534190                   446.424576\n",
       "30551                  -442.175636                   445.783130\n",
       "30552                  -442.528162                   445.430604\n",
       "30553                  -442.731492                   445.227274\n",
       "30554                  -442.747728                   445.211038\n",
       "\n",
       "[720 rows x 2 columns]"
      ]
     },
     "execution_count": 94,
     "metadata": {},
     "output_type": "execute_result"
    }
   ],
   "source": [
    "forecast_subscribed.conf_int()"
   ]
  },
  {
   "cell_type": "code",
   "execution_count": 95,
   "metadata": {},
   "outputs": [
    {
     "data": {
      "text/plain": [
       "array([3.39065688e+02, 2.25168062e+02, 1.43328680e+02, 9.16507954e+01,\n",
       "       6.26948995e+01, 9.39866947e+01, 2.14291385e+02, 4.92860505e+02,\n",
       "       7.25237125e+02, 5.38198717e+02, 3.81704224e+02, 4.24663490e+02,\n",
       "       4.97363881e+02, 5.18359260e+02, 5.42859009e+02, 7.15973809e+02,\n",
       "       8.37647126e+02, 1.06427588e+03, 8.95424933e+02, 7.31462218e+02,\n",
       "       5.39579472e+02, 4.34121575e+02, 3.73296390e+02, 3.68435006e+02,\n",
       "       2.77387274e+02, 1.84116093e+02, 1.17169670e+02, 7.49308381e+01,\n",
       "       5.12880254e+01, 7.70871595e+01, 1.75975783e+02, 4.04861150e+02,\n",
       "       5.95782739e+02, 4.42139310e+02, 3.13579961e+02, 3.48875240e+02,\n",
       "       4.08603014e+02, 4.25853182e+02, 4.45981238e+02, 5.88201808e+02,\n",
       "       6.88159982e+02, 8.74339440e+02, 7.35621003e+02, 6.00922619e+02,\n",
       "       4.43282948e+02, 3.56647320e+02, 3.06677603e+02, 3.02687497e+02,\n",
       "       2.27888385e+02, 1.51261606e+02, 9.62615339e+01, 6.15599005e+01,\n",
       "       4.21358491e+01, 6.33302302e+01, 1.44570193e+02, 3.32606831e+02,\n",
       "       4.89455060e+02, 3.63231901e+02, 2.57616175e+02, 2.86612384e+02,\n",
       "       3.35680688e+02, 3.49852255e+02, 3.66388106e+02, 4.83226936e+02,\n",
       "       5.65345838e+02, 7.18298350e+02, 6.04336640e+02, 4.93677514e+02,\n",
       "       3.64171392e+02, 2.92997392e+02, 2.51945639e+02, 2.48667619e+02,\n",
       "       1.87217711e+02, 1.24266321e+02, 7.90819751e+01, 5.05734570e+01,\n",
       "       3.46159688e+01, 5.20278462e+01, 1.18769126e+02, 2.73247356e+02,\n",
       "       4.02103291e+02, 2.98406851e+02, 2.11640088e+02, 2.35461419e+02,\n",
       "       2.75772631e+02, 2.87415035e+02, 3.00999776e+02, 3.96986685e+02,\n",
       "       4.64450040e+02, 5.90105516e+02, 4.96482255e+02, 4.05572175e+02,\n",
       "       2.99178674e+02, 2.40706911e+02, 2.06981558e+02, 2.04288557e+02,\n",
       "       1.53805455e+02, 1.02088835e+02, 6.49684213e+01, 4.15477440e+01,\n",
       "       2.84381471e+01, 4.27425722e+01, 9.75727099e+01, 2.24481613e+02,\n",
       "       3.30340966e+02, 2.45150958e+02, 1.73869233e+02, 1.93439234e+02,\n",
       "       2.26556209e+02, 2.36120823e+02, 2.47281131e+02, 3.26137506e+02,\n",
       "       3.81560853e+02, 4.84790924e+02, 4.07876362e+02, 3.33190767e+02,\n",
       "       2.45785036e+02, 1.97748577e+02, 1.70042099e+02, 1.67829711e+02,\n",
       "       1.26356196e+02, 8.38693068e+01, 5.33736766e+01, 3.41328265e+01,\n",
       "       2.33628652e+01, 3.51144168e+01, 8.01591628e+01, 1.84418965e+02,\n",
       "       2.71385875e+02, 2.01399506e+02, 1.42839245e+02, 1.58916638e+02,\n",
       "       1.86123313e+02, 1.93980956e+02, 2.03149513e+02, 2.67932596e+02,\n",
       "       3.13464682e+02, 3.98271552e+02, 3.35083731e+02, 2.73727079e+02,\n",
       "       2.01920422e+02, 1.62456904e+02, 1.39695129e+02, 1.37877580e+02,\n",
       "       1.03805736e+02, 6.89013704e+01, 4.38482157e+01, 2.80412300e+01,\n",
       "       1.91933556e+01, 2.88476384e+01, 6.58533661e+01, 1.51506193e+02,\n",
       "       2.22952346e+02, 1.65456262e+02, 1.17347097e+02, 1.30555200e+02,\n",
       "       1.52906371e+02, 1.59361680e+02, 1.66893949e+02, 2.20115364e+02,\n",
       "       2.57521458e+02, 3.27193067e+02, 2.75282212e+02, 2.24875721e+02,\n",
       "       1.65884210e+02, 1.33463644e+02, 1.14764104e+02, 1.13270928e+02,\n",
       "       8.52797966e+01, 5.66047225e+01, 3.60227390e+01, 2.30367848e+01,\n",
       "       1.57679674e+01, 2.36992756e+01, 5.41006876e+01, 1.24467278e+02,\n",
       "       1.83162622e+02, 1.35927714e+02, 9.64044668e+01, 1.07255354e+02,\n",
       "       1.25617569e+02, 1.30920817e+02, 1.37108821e+02, 1.80831949e+02,\n",
       "       2.11562275e+02, 2.68799773e+02, 2.26153313e+02, 1.84742738e+02,\n",
       "       1.36279288e+02, 1.09644735e+02, 9.42824533e+01, 9.30557610e+01,\n",
       "       7.00601337e+01, 4.65026253e+01, 2.95938547e+01, 1.89254699e+01,\n",
       "       1.29538994e+01, 1.94697277e+01, 4.44454789e+01, 1.02253928e+02,\n",
       "       1.50474066e+02, 1.11669049e+02, 7.91994130e+01, 8.81137708e+01,\n",
       "       1.03198929e+02, 1.07555720e+02, 1.12639367e+02, 1.48559343e+02,\n",
       "       1.73805307e+02, 2.20827779e+02, 1.85792321e+02, 1.51772183e+02,\n",
       "       1.11957879e+02, 9.00767254e+01, 7.74561097e+01, 7.64483420e+01,\n",
       "       5.75566843e+01, 3.82034230e+01, 2.43123166e+01, 1.55478906e+01,\n",
       "       1.06420508e+01, 1.59950162e+01, 3.65134102e+01, 8.40049358e+01,\n",
       "       1.23619352e+02, 9.17397653e+01, 6.50649003e+01, 7.23883359e+01,\n",
       "       8.47812856e+01, 8.83605312e+01, 9.25369131e+01, 1.22046344e+02,\n",
       "       1.42786727e+02, 1.81417221e+02, 1.52634450e+02, 1.24685797e+02,\n",
       "       9.19770482e+01, 7.40009671e+01, 6.36327198e+01, 6.28048058e+01,\n",
       "       4.72846930e+01, 3.13853577e+01, 1.99733609e+01, 1.27730991e+01,\n",
       "       8.74279172e+00, 1.31404273e+01, 2.99969571e+01, 6.90127939e+01,\n",
       "       1.01557329e+02, 7.53672086e+01, 5.34529372e+01, 5.94693784e+01,\n",
       "       6.96505906e+01, 7.25910576e+01, 7.60220916e+01, 1.00265052e+02,\n",
       "       1.17303953e+02, 1.49040163e+02, 1.25394178e+02, 1.02433448e+02,\n",
       "       7.55621442e+01, 6.07942075e+01, 5.22763542e+01, 5.15961959e+01,\n",
       "       3.88459171e+01, 2.57840948e+01, 1.64087673e+01, 1.04935174e+01,\n",
       "       7.18248848e+00, 1.07952895e+01, 2.46434784e+01, 5.66962606e+01,\n",
       "       8.34326571e+01, 6.19166194e+01, 4.39133309e+01, 4.88560335e+01,\n",
       "       5.72202313e+01, 5.96359209e+01, 6.24546271e+01, 8.23710093e+01,\n",
       "       9.63690221e+01, 1.22441353e+02, 1.03015406e+02, 8.41524179e+01,\n",
       "       6.20767654e+01, 4.99444238e+01, 4.29467296e+01, 4.23879573e+01,\n",
       "       3.19131876e+01, 2.11824746e+01, 1.34803374e+01, 8.62076674e+00,\n",
       "       5.90064849e+00, 8.86868236e+00, 2.02454211e+01, 4.65778268e+01,\n",
       "       6.85426484e+01, 5.08665218e+01, 3.60762333e+01, 4.01368246e+01,\n",
       "       4.70082859e+01, 4.89928536e+01, 5.13085127e+01, 6.76704701e+01,\n",
       "       7.91702940e+01, 1.00589564e+02, 8.46305150e+01, 6.91339553e+01,\n",
       "       5.09980870e+01, 4.10309727e+01, 3.52821388e+01, 3.48230891e+01,\n",
       "       2.62177242e+01, 1.74020936e+01, 1.10745367e+01, 7.08224098e+00,\n",
       "       4.84757514e+00, 7.28591175e+00, 1.66322736e+01, 3.82652035e+01,\n",
       "       5.63100207e+01, 4.17885063e+01, 2.96378020e+01, 3.29737102e+01,\n",
       "       3.86188397e+01, 4.02492268e+01, 4.21516162e+01, 5.55934977e+01,\n",
       "       6.50409781e+01, 8.26376071e+01, 6.95267277e+01, 5.67957986e+01,\n",
       "       4.18965914e+01, 3.37082820e+01, 2.89854275e+01, 2.86083032e+01,\n",
       "       2.15387154e+01, 1.42963873e+01, 9.09809301e+00, 5.81829190e+00,\n",
       "       3.98244105e+00, 5.98561408e+00, 1.36639551e+01, 3.14361124e+01,\n",
       "       4.62605181e+01, 3.43306206e+01, 2.43484208e+01, 2.70889781e+01,\n",
       "       3.17266361e+01, 3.30660522e+01, 3.46289272e+01, 4.56718712e+01,\n",
       "       5.34332843e+01, 6.78894889e+01, 5.71184739e+01, 4.66596005e+01,\n",
       "       3.44194160e+01, 2.76924528e+01, 2.38124738e+01, 2.35026540e+01,\n",
       "       1.76947570e+01, 1.17449484e+01, 7.47438008e+00, 4.77991652e+00,\n",
       "       3.27170518e+00, 4.91737714e+00, 1.12253846e+01, 2.58257914e+01,\n",
       "       3.80045241e+01, 2.82037243e+01, 2.00030216e+01, 2.22544788e+01,\n",
       "       2.60644661e+01, 2.71648401e+01, 2.84487929e+01, 3.75209314e+01,\n",
       "       4.38971854e+01, 5.57734288e+01, 4.69246888e+01, 3.83323833e+01,\n",
       "       2.82766726e+01, 2.27502530e+01, 1.95627237e+01, 1.93081966e+01,\n",
       "       1.45368199e+01, 9.64885807e+00, 6.14044696e+00, 3.92685728e+00,\n",
       "       2.68781249e+00, 4.03978567e+00, 9.22201952e+00, 2.12167298e+01,\n",
       "       3.12219558e+01, 2.31702791e+01, 1.64331345e+01, 1.82827800e+01,\n",
       "       2.14128088e+01, 2.23168019e+01, 2.33716110e+01, 3.08246686e+01,\n",
       "       3.60629692e+01, 4.58196904e+01, 3.85501620e+01, 3.14913028e+01,\n",
       "       2.32302085e+01, 1.86900747e+01, 1.60714154e+01, 1.58623131e+01,\n",
       "       1.19424715e+01, 7.92685153e+00, 5.04457740e+00, 3.22604130e+00,\n",
       "       2.20812560e+00, 3.31881565e+00, 7.57618975e+00, 1.74302353e+01,\n",
       "       2.56498547e+01, 1.90351398e+01, 1.35003558e+01, 1.50199000e+01,\n",
       "       1.75913206e+01, 1.83339805e+01, 1.92005405e+01, 2.53234704e+01,\n",
       "       2.96269051e+01, 3.76423698e+01, 3.16702151e+01, 2.58711321e+01,\n",
       "       1.90843738e+01, 1.53545058e+01, 1.32031918e+01, 1.30314074e+01,\n",
       "       9.81112978e+00, 6.51216701e+00, 4.14428483e+00, 2.65029812e+00,\n",
       "       1.81404718e+00, 2.72651528e+00, 6.22408692e+00, 1.43195067e+01,\n",
       "       2.10721921e+01, 1.56379881e+01, 1.10909825e+01, 1.23393376e+01,\n",
       "       1.44518435e+01, 1.50619628e+01, 1.57738701e+01, 2.08040567e+01,\n",
       "       2.43394686e+01, 3.09244342e+01, 2.60181144e+01, 2.12539786e+01,\n",
       "       1.56784354e+01, 1.26142272e+01, 1.08468526e+01, 1.07057261e+01,\n",
       "       8.06016303e+00, 5.34995754e+00, 3.40466512e+00, 2.17730633e+00,\n",
       "       1.49029891e+00, 2.23992121e+00, 5.11329036e+00, 1.17639417e+01,\n",
       "       1.73114929e+01, 1.28471171e+01, 9.11160381e+00, 1.01371682e+01,\n",
       "       1.18726607e+01, 1.23738936e+01, 1.29587487e+01, 1.70912109e+01,\n",
       "       1.99956671e+01, 2.54054311e+01, 2.13747294e+01, 1.74608365e+01,\n",
       "       1.28803459e+01, 1.03629989e+01, 8.91104312e+00, 8.79510311e+00,\n",
       "       6.62168675e+00, 4.39516457e+00, 2.79704342e+00, 1.78872815e+00,\n",
       "       1.22432915e+00, 1.84016831e+00, 4.20073476e+00, 9.66446168e+00,\n",
       "       1.42219559e+01, 1.05543256e+01, 7.48547963e+00, 8.32801421e+00,\n",
       "       9.75377790e+00, 1.01655571e+01, 1.06460346e+01, 1.40409871e+01,\n",
       "       1.64270926e+01, 2.08713900e+01, 1.75600372e+01, 1.43446465e+01,\n",
       "       1.05816242e+01, 8.51354155e+00, 7.32071249e+00, 7.22546400e+00,\n",
       "       5.43993159e+00, 3.61077101e+00, 2.29786237e+00, 1.46949850e+00,\n",
       "       1.00582632e+00, 1.51175827e+00, 3.45104058e+00, 7.93967041e+00,\n",
       "       1.16838005e+01, 8.67072266e+00, 6.14956560e+00, 6.84173523e+00,\n",
       "       8.01304659e+00, 8.35133660e+00, 8.74606455e+00, 1.15351287e+01,\n",
       "       1.34953922e+01, 1.71465275e+01, 1.44261431e+01, 1.17845949e+01,\n",
       "       8.69314929e+00, 6.99415199e+00, 6.01420402e+00, 5.93595428e+00,\n",
       "       4.46908118e+00, 2.96636613e+00, 1.88776887e+00, 1.20724093e+00,\n",
       "       8.26319121e-01, 1.24195871e+00, 2.83514237e+00, 6.52269813e+00,\n",
       "       9.59862311e+00, 7.12328140e+00, 5.05206867e+00, 5.62070858e+00,\n",
       "       6.58297906e+00, 6.86089534e+00, 7.18517722e+00, 9.47648439e+00,\n",
       "       1.10869047e+01, 1.40864314e+01, 1.18515470e+01, 9.68142896e+00,\n",
       "       7.14170560e+00, 5.74592392e+00, 4.94086471e+00, 4.87658000e+00,\n",
       "       3.67149592e+00, 2.43696650e+00, 1.55086368e+00, 9.91787793e-01,\n",
       "       6.78848102e-01, 1.02030958e+00, 2.32916190e+00, 5.35860921e+00,\n",
       "       7.88558187e+00, 5.85200794e+00, 4.15043915e+00, 4.61759538e+00,\n",
       "       5.40813195e+00, 5.63644924e+00, 5.90285738e+00, 7.78524094e+00,\n",
       "       9.10825377e+00, 1.15724628e+01, 9.73643230e+00, 7.95360958e+00,\n",
       "       5.86714403e+00, 4.72046386e+00, 4.05908147e+00, 4.00626948e+00,\n",
       "       3.01625362e+00, 2.00204744e+00, 1.27408508e+00, 8.14786012e-01,\n",
       "       5.57695852e-01, 8.38217591e-01, 1.91348245e+00, 4.40227220e+00,\n",
       "       6.47826264e+00, 4.80761534e+00, 3.40972110e+00, 3.79350517e+00,\n",
       "       4.44295675e+00, 4.63052684e+00, 4.84938981e+00, 6.39582929e+00,\n",
       "       7.48272747e+00, 9.50715550e+00, 7.99879661e+00, 6.53414962e+00,\n",
       "       4.82005013e+00, 3.87801499e+00, 3.33466779e+00, 3.29128102e+00,\n",
       "       2.47795070e+00, 1.64474726e+00, 1.04670244e+00, 6.69373277e-01,\n",
       "       4.58165327e-01, 6.88623083e-01, 1.57198823e+00, 3.61661016e+00,\n",
       "       5.32210400e+00, 3.94961277e+00, 2.80119706e+00, 3.11648820e+00,\n",
       "       3.65003384e+00, 3.80412879e+00, 3.98393186e+00, 5.25438231e+00,\n",
       "       6.14730461e+00, 7.81043825e+00, 6.57127224e+00, 5.36801698e+00,\n",
       "       3.95982836e+00, 3.18591577e+00, 2.73953832e+00, 2.70389468e+00,\n",
       "       2.03571730e+00, 1.35121350e+00, 8.59900186e-01, 5.49911974e-01,\n",
       "       3.76397756e-01, 5.65726318e-01, 1.29143959e+00, 2.97116317e+00,\n",
       "       4.37228198e+00, 3.24473568e+00, 2.30127473e+00, 2.56029668e+00,\n",
       "       2.99862182e+00, 3.12521585e+00, 3.27292993e+00, 4.31664640e+00,\n",
       "       5.05021119e+00, 6.41652971e+00, 5.39851442e+00, 4.41000099e+00,\n",
       "       3.25312812e+00, 2.61733369e+00, 2.25062006e+00, 2.22133764e+00,\n",
       "       1.67240814e+00, 1.11006595e+00, 7.06436042e-01, 4.51770618e-01,\n",
       "       3.09223030e-01, 4.64762617e-01, 1.06095973e+00, 2.44090743e+00,\n",
       "       3.59197221e+00, 2.66565616e+00, 1.89057223e+00, 2.10336721e+00,\n",
       "       2.46346560e+00, 2.56746672e+00, 2.68881866e+00, 3.54626578e+00,\n",
       "       4.14891317e+00, 5.27138838e+00, 4.43505563e+00, 3.62295961e+00,\n",
       "       2.67255082e+00, 2.15022497e+00, 1.84895777e+00, 1.82490131e+00,\n",
       "       1.37393782e+00, 9.11955377e-01, 5.80360244e-01, 3.71144294e-01,\n",
       "       2.54036802e-01, 3.81817645e-01, 8.71613017e-01, 2.00528505e+00,\n",
       "       2.95092230e+00, 2.18992346e+00, 1.55316673e+00, 1.72798475e+00,\n",
       "       2.02381732e+00, 2.10925763e+00, 2.20895221e+00, 2.91337297e+00,\n",
       "       3.40846745e+00, 4.33061744e+00, 3.64354282e+00, 2.97637946e+00,\n",
       "       2.19558765e+00, 1.76647993e+00, 1.51897910e+00, 1.49921593e+00,\n",
       "       1.12873472e+00, 7.49201079e-01, 4.76784865e-01, 3.04907140e-01,\n",
       "       2.08699517e-01, 3.13675645e-01, 7.16058515e-01, 1.64740705e+00,\n",
       "       2.42427889e+00, 1.79909353e+00, 1.27597712e+00, 1.41959581e+00,\n",
       "       1.66263192e+00, 1.73282392e+00, 1.81472627e+00, 2.39343090e+00,\n",
       "       2.80016716e+00, 3.55774344e+00, 2.99328923e+00, 2.44519278e+00,\n",
       "       1.80374685e+00, 1.45122086e+00, 1.24789086e+00, 1.23165477e+00])"
      ]
     },
     "execution_count": 95,
     "metadata": {},
     "output_type": "execute_result"
    }
   ],
   "source": [
    "forecast_subscribed.predicted_mean.values"
   ]
  },
  {
   "cell_type": "code",
   "execution_count": 101,
   "metadata": {},
   "outputs": [
    {
     "name": "stderr",
     "output_type": "stream",
     "text": [
      "/Users/priyanshu.tuli/Desktop/machinehack/.venv/lib/python3.9/site-packages/statsmodels/tsa/base/tsa_model.py:836: ValueWarning: No supported index is available. Prediction results will be given with an integer index beginning at `start`.\n",
      "  return get_prediction_index(\n",
      "/Users/priyanshu.tuli/Desktop/machinehack/.venv/lib/python3.9/site-packages/statsmodels/tsa/base/tsa_model.py:836: FutureWarning: No supported index is available. In the next version, calling this method in a model without a supported index will result in an exception.\n",
      "  return get_prediction_index(\n"
     ]
    },
    {
     "data": {
      "text/plain": [
       "array([3.39065688e+02, 2.25168062e+02, 1.43328680e+02, 9.16507954e+01,\n",
       "       6.26948995e+01, 9.39866947e+01, 2.14291385e+02, 4.92860505e+02,\n",
       "       7.25237125e+02, 5.38198717e+02, 3.81704224e+02, 4.24663490e+02,\n",
       "       4.97363881e+02, 5.18359260e+02, 5.42859009e+02, 7.15973809e+02,\n",
       "       8.37647126e+02, 1.06427588e+03, 8.95424933e+02, 7.31462218e+02,\n",
       "       5.39579472e+02, 4.34121575e+02, 3.73296390e+02, 3.68435006e+02,\n",
       "       2.77387274e+02, 1.84116093e+02, 1.17169670e+02, 7.49308381e+01,\n",
       "       5.12880254e+01, 7.70871595e+01, 1.75975783e+02, 4.04861150e+02,\n",
       "       5.95782739e+02, 4.42139310e+02, 3.13579961e+02, 3.48875240e+02,\n",
       "       4.08603014e+02, 4.25853182e+02, 4.45981238e+02, 5.88201808e+02,\n",
       "       6.88159982e+02, 8.74339440e+02, 7.35621003e+02, 6.00922619e+02,\n",
       "       4.43282948e+02, 3.56647320e+02, 3.06677603e+02, 3.02687497e+02,\n",
       "       2.27888385e+02, 1.51261606e+02, 9.62615339e+01, 6.15599005e+01,\n",
       "       4.21358491e+01, 6.33302302e+01, 1.44570193e+02, 3.32606831e+02,\n",
       "       4.89455060e+02, 3.63231901e+02, 2.57616175e+02, 2.86612384e+02,\n",
       "       3.35680688e+02, 3.49852255e+02, 3.66388106e+02, 4.83226936e+02,\n",
       "       5.65345838e+02, 7.18298350e+02, 6.04336640e+02, 4.93677514e+02,\n",
       "       3.64171392e+02, 2.92997392e+02, 2.51945639e+02, 2.48667619e+02,\n",
       "       1.87217711e+02, 1.24266321e+02, 7.90819751e+01, 5.05734570e+01,\n",
       "       3.46159688e+01, 5.20278462e+01, 1.18769126e+02, 2.73247356e+02,\n",
       "       4.02103291e+02, 2.98406851e+02, 2.11640088e+02, 2.35461419e+02,\n",
       "       2.75772631e+02, 2.87415035e+02, 3.00999776e+02, 3.96986685e+02,\n",
       "       4.64450040e+02, 5.90105516e+02, 4.96482255e+02, 4.05572175e+02,\n",
       "       2.99178674e+02, 2.40706911e+02, 2.06981558e+02, 2.04288557e+02,\n",
       "       1.53805455e+02, 1.02088835e+02, 6.49684213e+01, 4.15477440e+01,\n",
       "       2.84381471e+01, 4.27425722e+01, 9.75727099e+01, 2.24481613e+02,\n",
       "       3.30340966e+02, 2.45150958e+02, 1.73869233e+02, 1.93439234e+02,\n",
       "       2.26556209e+02, 2.36120823e+02, 2.47281131e+02, 3.26137506e+02,\n",
       "       3.81560853e+02, 4.84790924e+02, 4.07876362e+02, 3.33190767e+02,\n",
       "       2.45785036e+02, 1.97748577e+02, 1.70042099e+02, 1.67829711e+02,\n",
       "       1.26356196e+02, 8.38693068e+01, 5.33736766e+01, 3.41328265e+01,\n",
       "       2.33628652e+01, 3.51144168e+01, 8.01591628e+01, 1.84418965e+02,\n",
       "       2.71385875e+02, 2.01399506e+02, 1.42839245e+02, 1.58916638e+02,\n",
       "       1.86123313e+02, 1.93980956e+02, 2.03149513e+02, 2.67932596e+02,\n",
       "       3.13464682e+02, 3.98271552e+02, 3.35083731e+02, 2.73727079e+02,\n",
       "       2.01920422e+02, 1.62456904e+02, 1.39695129e+02, 1.37877580e+02,\n",
       "       1.03805736e+02, 6.89013704e+01, 4.38482157e+01, 2.80412300e+01,\n",
       "       1.91933556e+01, 2.88476384e+01, 6.58533661e+01, 1.51506193e+02,\n",
       "       2.22952346e+02, 1.65456262e+02, 1.17347097e+02, 1.30555200e+02,\n",
       "       1.52906371e+02, 1.59361680e+02, 1.66893949e+02, 2.20115364e+02,\n",
       "       2.57521458e+02, 3.27193067e+02, 2.75282212e+02, 2.24875721e+02,\n",
       "       1.65884210e+02, 1.33463644e+02, 1.14764104e+02, 1.13270928e+02,\n",
       "       8.52797966e+01, 5.66047225e+01, 3.60227390e+01, 2.30367848e+01,\n",
       "       1.57679674e+01, 2.36992756e+01, 5.41006876e+01, 1.24467278e+02,\n",
       "       1.83162622e+02, 1.35927714e+02, 9.64044668e+01, 1.07255354e+02,\n",
       "       1.25617569e+02, 1.30920817e+02, 1.37108821e+02, 1.80831949e+02,\n",
       "       2.11562275e+02, 2.68799773e+02, 2.26153313e+02, 1.84742738e+02,\n",
       "       1.36279288e+02, 1.09644735e+02, 9.42824533e+01, 9.30557610e+01,\n",
       "       7.00601337e+01, 4.65026253e+01, 2.95938547e+01, 1.89254699e+01,\n",
       "       1.29538994e+01, 1.94697277e+01, 4.44454789e+01, 1.02253928e+02,\n",
       "       1.50474066e+02, 1.11669049e+02, 7.91994130e+01, 8.81137708e+01,\n",
       "       1.03198929e+02, 1.07555720e+02, 1.12639367e+02, 1.48559343e+02,\n",
       "       1.73805307e+02, 2.20827779e+02, 1.85792321e+02, 1.51772183e+02,\n",
       "       1.11957879e+02, 9.00767254e+01, 7.74561097e+01, 7.64483420e+01,\n",
       "       5.75566843e+01, 3.82034230e+01, 2.43123166e+01, 1.55478906e+01,\n",
       "       1.06420508e+01, 1.59950162e+01, 3.65134102e+01, 8.40049358e+01,\n",
       "       1.23619352e+02, 9.17397653e+01, 6.50649003e+01, 7.23883359e+01,\n",
       "       8.47812856e+01, 8.83605312e+01, 9.25369131e+01, 1.22046344e+02,\n",
       "       1.42786727e+02, 1.81417221e+02, 1.52634450e+02, 1.24685797e+02,\n",
       "       9.19770482e+01, 7.40009671e+01, 6.36327198e+01, 6.28048058e+01,\n",
       "       4.72846930e+01, 3.13853577e+01, 1.99733609e+01, 1.27730991e+01,\n",
       "       8.74279172e+00, 1.31404273e+01, 2.99969571e+01, 6.90127939e+01,\n",
       "       1.01557329e+02, 7.53672086e+01, 5.34529372e+01, 5.94693784e+01,\n",
       "       6.96505906e+01, 7.25910576e+01, 7.60220916e+01, 1.00265052e+02,\n",
       "       1.17303953e+02, 1.49040163e+02, 1.25394178e+02, 1.02433448e+02,\n",
       "       7.55621442e+01, 6.07942075e+01, 5.22763542e+01, 5.15961959e+01,\n",
       "       3.88459171e+01, 2.57840948e+01, 1.64087673e+01, 1.04935174e+01,\n",
       "       7.18248848e+00, 1.07952895e+01, 2.46434784e+01, 5.66962606e+01,\n",
       "       8.34326571e+01, 6.19166194e+01, 4.39133309e+01, 4.88560335e+01,\n",
       "       5.72202313e+01, 5.96359209e+01, 6.24546271e+01, 8.23710093e+01,\n",
       "       9.63690221e+01, 1.22441353e+02, 1.03015406e+02, 8.41524179e+01,\n",
       "       6.20767654e+01, 4.99444238e+01, 4.29467296e+01, 4.23879573e+01,\n",
       "       3.19131876e+01, 2.11824746e+01, 1.34803374e+01, 8.62076674e+00,\n",
       "       5.90064849e+00, 8.86868236e+00, 2.02454211e+01, 4.65778268e+01,\n",
       "       6.85426484e+01, 5.08665218e+01, 3.60762333e+01, 4.01368246e+01,\n",
       "       4.70082859e+01, 4.89928536e+01, 5.13085127e+01, 6.76704701e+01,\n",
       "       7.91702940e+01, 1.00589564e+02, 8.46305150e+01, 6.91339553e+01,\n",
       "       5.09980870e+01, 4.10309727e+01, 3.52821388e+01, 3.48230891e+01,\n",
       "       2.62177242e+01, 1.74020936e+01, 1.10745367e+01, 7.08224098e+00,\n",
       "       4.84757514e+00, 7.28591175e+00, 1.66322736e+01, 3.82652035e+01,\n",
       "       5.63100207e+01, 4.17885063e+01, 2.96378020e+01, 3.29737102e+01,\n",
       "       3.86188397e+01, 4.02492268e+01, 4.21516162e+01, 5.55934977e+01,\n",
       "       6.50409781e+01, 8.26376071e+01, 6.95267277e+01, 5.67957986e+01,\n",
       "       4.18965914e+01, 3.37082820e+01, 2.89854275e+01, 2.86083032e+01,\n",
       "       2.15387154e+01, 1.42963873e+01, 9.09809301e+00, 5.81829190e+00,\n",
       "       3.98244105e+00, 5.98561408e+00, 1.36639551e+01, 3.14361124e+01,\n",
       "       4.62605181e+01, 3.43306206e+01, 2.43484208e+01, 2.70889781e+01,\n",
       "       3.17266361e+01, 3.30660522e+01, 3.46289272e+01, 4.56718712e+01,\n",
       "       5.34332843e+01, 6.78894889e+01, 5.71184739e+01, 4.66596005e+01,\n",
       "       3.44194160e+01, 2.76924528e+01, 2.38124738e+01, 2.35026540e+01,\n",
       "       1.76947570e+01, 1.17449484e+01, 7.47438008e+00, 4.77991652e+00,\n",
       "       3.27170518e+00, 4.91737714e+00, 1.12253846e+01, 2.58257914e+01,\n",
       "       3.80045241e+01, 2.82037243e+01, 2.00030216e+01, 2.22544788e+01,\n",
       "       2.60644661e+01, 2.71648401e+01, 2.84487929e+01, 3.75209314e+01,\n",
       "       4.38971854e+01, 5.57734288e+01, 4.69246888e+01, 3.83323833e+01,\n",
       "       2.82766726e+01, 2.27502530e+01, 1.95627237e+01, 1.93081966e+01,\n",
       "       1.45368199e+01, 9.64885807e+00, 6.14044696e+00, 3.92685728e+00,\n",
       "       2.68781249e+00, 4.03978567e+00, 9.22201952e+00, 2.12167298e+01,\n",
       "       3.12219558e+01, 2.31702791e+01, 1.64331345e+01, 1.82827800e+01,\n",
       "       2.14128088e+01, 2.23168019e+01, 2.33716110e+01, 3.08246686e+01,\n",
       "       3.60629692e+01, 4.58196904e+01, 3.85501620e+01, 3.14913028e+01,\n",
       "       2.32302085e+01, 1.86900747e+01, 1.60714154e+01, 1.58623131e+01,\n",
       "       1.19424715e+01, 7.92685153e+00, 5.04457740e+00, 3.22604130e+00,\n",
       "       2.20812560e+00, 3.31881565e+00, 7.57618975e+00, 1.74302353e+01,\n",
       "       2.56498547e+01, 1.90351398e+01, 1.35003558e+01, 1.50199000e+01,\n",
       "       1.75913206e+01, 1.83339805e+01, 1.92005405e+01, 2.53234704e+01,\n",
       "       2.96269051e+01, 3.76423698e+01, 3.16702151e+01, 2.58711321e+01,\n",
       "       1.90843738e+01, 1.53545058e+01, 1.32031918e+01, 1.30314074e+01,\n",
       "       9.81112978e+00, 6.51216701e+00, 4.14428483e+00, 2.65029812e+00,\n",
       "       1.81404718e+00, 2.72651528e+00, 6.22408692e+00, 1.43195067e+01,\n",
       "       2.10721921e+01, 1.56379881e+01, 1.10909825e+01, 1.23393376e+01,\n",
       "       1.44518435e+01, 1.50619628e+01, 1.57738701e+01, 2.08040567e+01,\n",
       "       2.43394686e+01, 3.09244342e+01, 2.60181144e+01, 2.12539786e+01,\n",
       "       1.56784354e+01, 1.26142272e+01, 1.08468526e+01, 1.07057261e+01,\n",
       "       8.06016303e+00, 5.34995754e+00, 3.40466512e+00, 2.17730633e+00,\n",
       "       1.49029891e+00, 2.23992121e+00, 5.11329036e+00, 1.17639417e+01,\n",
       "       1.73114929e+01, 1.28471171e+01, 9.11160381e+00, 1.01371682e+01,\n",
       "       1.18726607e+01, 1.23738936e+01, 1.29587487e+01, 1.70912109e+01,\n",
       "       1.99956671e+01, 2.54054311e+01, 2.13747294e+01, 1.74608365e+01,\n",
       "       1.28803459e+01, 1.03629989e+01, 8.91104312e+00, 8.79510311e+00,\n",
       "       6.62168675e+00, 4.39516457e+00, 2.79704342e+00, 1.78872815e+00,\n",
       "       1.22432915e+00, 1.84016831e+00, 4.20073476e+00, 9.66446168e+00,\n",
       "       1.42219559e+01, 1.05543256e+01, 7.48547963e+00, 8.32801421e+00,\n",
       "       9.75377790e+00, 1.01655571e+01, 1.06460346e+01, 1.40409871e+01,\n",
       "       1.64270926e+01, 2.08713900e+01, 1.75600372e+01, 1.43446465e+01,\n",
       "       1.05816242e+01, 8.51354155e+00, 7.32071249e+00, 7.22546400e+00,\n",
       "       5.43993159e+00, 3.61077101e+00, 2.29786237e+00, 1.46949850e+00,\n",
       "       1.00582632e+00, 1.51175827e+00, 3.45104058e+00, 7.93967041e+00,\n",
       "       1.16838005e+01, 8.67072266e+00, 6.14956560e+00, 6.84173523e+00,\n",
       "       8.01304659e+00, 8.35133660e+00, 8.74606455e+00, 1.15351287e+01,\n",
       "       1.34953922e+01, 1.71465275e+01, 1.44261431e+01, 1.17845949e+01,\n",
       "       8.69314929e+00, 6.99415199e+00, 6.01420402e+00, 5.93595428e+00,\n",
       "       4.46908118e+00, 2.96636613e+00, 1.88776887e+00, 1.20724093e+00,\n",
       "       8.26319121e-01, 1.24195871e+00, 2.83514237e+00, 6.52269813e+00,\n",
       "       9.59862311e+00, 7.12328140e+00, 5.05206867e+00, 5.62070858e+00,\n",
       "       6.58297906e+00, 6.86089534e+00, 7.18517722e+00, 9.47648439e+00,\n",
       "       1.10869047e+01, 1.40864314e+01, 1.18515470e+01, 9.68142896e+00,\n",
       "       7.14170560e+00, 5.74592392e+00, 4.94086471e+00, 4.87658000e+00,\n",
       "       3.67149592e+00, 2.43696650e+00, 1.55086368e+00, 9.91787793e-01,\n",
       "       6.78848102e-01, 1.02030958e+00, 2.32916190e+00, 5.35860921e+00,\n",
       "       7.88558187e+00, 5.85200794e+00, 4.15043915e+00, 4.61759538e+00,\n",
       "       5.40813195e+00, 5.63644924e+00, 5.90285738e+00, 7.78524094e+00,\n",
       "       9.10825377e+00, 1.15724628e+01, 9.73643230e+00, 7.95360958e+00,\n",
       "       5.86714403e+00, 4.72046386e+00, 4.05908147e+00, 4.00626948e+00,\n",
       "       3.01625362e+00, 2.00204744e+00, 1.27408508e+00, 8.14786012e-01,\n",
       "       5.57695852e-01, 8.38217591e-01, 1.91348245e+00, 4.40227220e+00,\n",
       "       6.47826264e+00, 4.80761534e+00, 3.40972110e+00, 3.79350517e+00,\n",
       "       4.44295675e+00, 4.63052684e+00, 4.84938981e+00, 6.39582929e+00,\n",
       "       7.48272747e+00, 9.50715550e+00, 7.99879661e+00, 6.53414962e+00,\n",
       "       4.82005013e+00, 3.87801499e+00, 3.33466779e+00, 3.29128102e+00,\n",
       "       2.47795070e+00, 1.64474726e+00, 1.04670244e+00, 6.69373277e-01,\n",
       "       4.58165327e-01, 6.88623083e-01, 1.57198823e+00, 3.61661016e+00,\n",
       "       5.32210400e+00, 3.94961277e+00, 2.80119706e+00, 3.11648820e+00,\n",
       "       3.65003384e+00, 3.80412879e+00, 3.98393186e+00, 5.25438231e+00,\n",
       "       6.14730461e+00, 7.81043825e+00, 6.57127224e+00, 5.36801698e+00,\n",
       "       3.95982836e+00, 3.18591577e+00, 2.73953832e+00, 2.70389468e+00,\n",
       "       2.03571730e+00, 1.35121350e+00, 8.59900186e-01, 5.49911974e-01,\n",
       "       3.76397756e-01, 5.65726318e-01, 1.29143959e+00, 2.97116317e+00,\n",
       "       4.37228198e+00, 3.24473568e+00, 2.30127473e+00, 2.56029668e+00,\n",
       "       2.99862182e+00, 3.12521585e+00, 3.27292993e+00, 4.31664640e+00,\n",
       "       5.05021119e+00, 6.41652971e+00, 5.39851442e+00, 4.41000099e+00,\n",
       "       3.25312812e+00, 2.61733369e+00, 2.25062006e+00, 2.22133764e+00,\n",
       "       1.67240814e+00, 1.11006595e+00, 7.06436042e-01, 4.51770618e-01,\n",
       "       3.09223030e-01, 4.64762617e-01, 1.06095973e+00, 2.44090743e+00,\n",
       "       3.59197221e+00, 2.66565616e+00, 1.89057223e+00, 2.10336721e+00,\n",
       "       2.46346560e+00, 2.56746672e+00, 2.68881866e+00, 3.54626578e+00,\n",
       "       4.14891317e+00, 5.27138838e+00, 4.43505563e+00, 3.62295961e+00,\n",
       "       2.67255082e+00, 2.15022497e+00, 1.84895777e+00, 1.82490131e+00,\n",
       "       1.37393782e+00, 9.11955377e-01, 5.80360244e-01, 3.71144294e-01,\n",
       "       2.54036802e-01, 3.81817645e-01, 8.71613017e-01, 2.00528505e+00,\n",
       "       2.95092230e+00, 2.18992346e+00, 1.55316673e+00, 1.72798475e+00,\n",
       "       2.02381732e+00, 2.10925763e+00, 2.20895221e+00, 2.91337297e+00,\n",
       "       3.40846745e+00, 4.33061744e+00, 3.64354282e+00, 2.97637946e+00,\n",
       "       2.19558765e+00, 1.76647993e+00, 1.51897910e+00, 1.49921593e+00,\n",
       "       1.12873472e+00, 7.49201079e-01, 4.76784865e-01, 3.04907140e-01,\n",
       "       2.08699517e-01, 3.13675645e-01, 7.16058515e-01, 1.64740705e+00,\n",
       "       2.42427889e+00, 1.79909353e+00, 1.27597712e+00, 1.41959581e+00,\n",
       "       1.66263192e+00, 1.73282392e+00, 1.81472627e+00, 2.39343090e+00,\n",
       "       2.80016716e+00, 3.55774344e+00, 2.99328923e+00, 2.44519278e+00,\n",
       "       1.80374685e+00, 1.45122086e+00, 1.24789086e+00, 1.23165477e+00])"
      ]
     },
     "execution_count": 101,
     "metadata": {},
     "output_type": "execute_result"
    }
   ],
   "source": [
    "forecast_occasional= results.get_forecast(steps=30 * 24)\n",
    "forecast_subscribed.predicted_mean.values"
   ]
  },
  {
   "cell_type": "code",
   "execution_count": 96,
   "metadata": {},
   "outputs": [
    {
     "data": {
      "text/plain": [
       "720"
      ]
     },
     "execution_count": 96,
     "metadata": {},
     "output_type": "execute_result"
    }
   ],
   "source": [
    "len(forecast_subscribed.predicted_mean.values)"
   ]
  },
  {
   "cell_type": "code",
   "execution_count": 109,
   "metadata": {},
   "outputs": [],
   "source": [
    "import numpy as np"
   ]
  },
  {
   "cell_type": "code",
   "execution_count": 110,
   "metadata": {},
   "outputs": [],
   "source": [
    "test_df.loc[test_df[\"User_type\"] == \"subscribed\", \"Rent_Bicycles_Count\"] = np.round(forecast_subscribed.predicted_mean.values)"
   ]
  },
  {
   "cell_type": "code",
   "execution_count": 111,
   "metadata": {},
   "outputs": [],
   "source": [
    "test_df.loc[test_df[\"User_type\"] == \"occasional\", \"Rent_Bicycles_Count\"] = np.round(forecast_occasional.predicted_mean.values)"
   ]
  },
  {
   "cell_type": "code",
   "execution_count": 112,
   "metadata": {},
   "outputs": [
    {
     "data": {
      "text/plain": [
       "Datetime\n",
       "2016-06-01 00:00:00    244.0\n",
       "2016-06-01 00:00:00    339.0\n",
       "2016-06-01 01:00:00    211.0\n",
       "2016-06-01 01:00:00    225.0\n",
       "2016-06-01 02:00:00    177.0\n",
       "                       ...  \n",
       "2016-06-30 21:00:00      1.0\n",
       "2016-06-30 22:00:00      0.0\n",
       "2016-06-30 22:00:00      1.0\n",
       "2016-06-30 23:00:00      0.0\n",
       "2016-06-30 23:00:00      1.0\n",
       "Name: Rent_Bicycles_Count, Length: 1440, dtype: float64"
      ]
     },
     "execution_count": 112,
     "metadata": {},
     "output_type": "execute_result"
    }
   ],
   "source": [
    "test_df[\"Rent_Bicycles_Count\"]"
   ]
  },
  {
   "cell_type": "code",
   "execution_count": 114,
   "metadata": {},
   "outputs": [
    {
     "data": {
      "image/png": "[encoded data removed]",
      "text/plain": [
       "<Figure size 1000x600 with 1 Axes>"
      ]
     },
     "metadata": {},
     "output_type": "display_data"
    }
   ],
   "source": [
    "plt.figure(figsize=(10, 6))\n",
    "plt.plot(test_df[\"Rent_Bicycles_Count\"], label='Forecast', color='blue')\n",
    "plt.plot(df_subscribed[\"Rental_Bicycles_Count\"], label='Historical Data', color='red')\n",
    "plt.title('Time Series Forecast')\n",
    "plt.xlabel('Date')\n",
    "plt.ylabel('Values')\n",
    "plt.legend()\n",
    "plt.show()"
   ]
  },
  {
   "cell_type": "code",
   "execution_count": 117,
   "metadata": {},
   "outputs": [],
   "source": [
    "output = test_df[\"Rent_Bicycles_Count\"]"
   ]
  },
  {
   "cell_type": "code",
   "execution_count": 118,
   "metadata": {},
   "outputs": [
    {
     "data": {
      "text/plain": [
       "Datetime\n",
       "2016-06-01 00:00:00    244.0\n",
       "2016-06-01 00:00:00    339.0\n",
       "2016-06-01 01:00:00    211.0\n",
       "2016-06-01 01:00:00    225.0\n",
       "2016-06-01 02:00:00    177.0\n",
       "                       ...  \n",
       "2016-06-30 21:00:00      1.0\n",
       "2016-06-30 22:00:00      0.0\n",
       "2016-06-30 22:00:00      1.0\n",
       "2016-06-30 23:00:00      0.0\n",
       "2016-06-30 23:00:00      1.0\n",
       "Name: Rent_Bicycles_Count, Length: 1440, dtype: float64"
      ]
     },
     "execution_count": 118,
     "metadata": {},
     "output_type": "execute_result"
    }
   ],
   "source": [
    "output"
   ]
  },
  {
   "cell_type": "code",
   "execution_count": 119,
   "metadata": {},
   "outputs": [],
   "source": [
    "output.name = \"Rental_Bicycles_Count\""
   ]
  },
  {
   "cell_type": "code",
   "execution_count": 122,
   "metadata": {},
   "outputs": [],
   "source": [
    "output = output.astype(int)"
   ]
  },
  {
   "cell_type": "code",
   "execution_count": 123,
   "metadata": {},
   "outputs": [
    {
     "data": {
      "text/plain": [
       "Datetime\n",
       "2016-06-01 00:00:00    244\n",
       "2016-06-01 00:00:00    339\n",
       "2016-06-01 01:00:00    211\n",
       "2016-06-01 01:00:00    225\n",
       "2016-06-01 02:00:00    177\n",
       "                      ... \n",
       "2016-06-30 21:00:00      1\n",
       "2016-06-30 22:00:00      0\n",
       "2016-06-30 22:00:00      1\n",
       "2016-06-30 23:00:00      0\n",
       "2016-06-30 23:00:00      1\n",
       "Name: Rental_Bicycles_Count, Length: 1440, dtype: int64"
      ]
     },
     "execution_count": 123,
     "metadata": {},
     "output_type": "execute_result"
    }
   ],
   "source": [
    "output"
   ]
  },
  {
   "cell_type": "code",
   "execution_count": 124,
   "metadata": {},
   "outputs": [],
   "source": [
    "output.to_csv(\"./submission.csv\", index=False)"
   ]
  },
  {
   "cell_type": "code",
   "execution_count": null,
   "metadata": {},
   "outputs": [],
   "source": []
  }
 ],
 "metadata": {
  "kernelspec": {
   "display_name": ".venv",
   "language": "python",
   "name": "python3"
  },
  "language_info": {
   "codemirror_mode": {
    "name": "ipython",
    "version": 3
   },
   "file_extension": ".py",
   "mimetype": "text/x-python",
   "name": "python",
   "nbconvert_exporter": "python",
   "pygments_lexer": "ipython3",
   "version": "3.9.6"
  }
 },
 "nbformat": 4,
 "nbformat_minor": 2
}
